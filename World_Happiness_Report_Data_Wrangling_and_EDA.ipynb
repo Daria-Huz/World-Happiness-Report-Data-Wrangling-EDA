{
 "cells": [
  {
   "cell_type": "markdown",
   "id": "cff13f49",
   "metadata": {
    "papermill": {
     "duration": 0.026205,
     "end_time": "2024-01-10T16:47:12.124657",
     "exception": false,
     "start_time": "2024-01-10T16:47:12.098452",
     "status": "completed"
    },
    "tags": []
   },
   "source": [
    "# WORLD HAPPINESS REPORT "
   ]
  },
  {
   "cell_type": "markdown",
   "id": "f430b152",
   "metadata": {
    "papermill": {
     "duration": 0.025321,
     "end_time": "2024-01-10T16:47:12.175535",
     "exception": false,
     "start_time": "2024-01-10T16:47:12.150214",
     "status": "completed"
    },
    "tags": []
   },
   "source": [
    "## Content\n",
    "The World Happiness Report consists of the scores from nationally representative samples for the years 2015-2019. The columns following the happiness score estimate the extent to which each of six factors – economic production, social support, life expectancy, freedom, absence of corruption, and generosity – contribute to making life evaluations higher in each country.\n",
    "\n",
    "## The ultimate goal of the analysis:  \n",
    "- determine the main factors that have the most impact on the happiness score.\n",
    "\n",
    "\n",
    "## The main steps of the data analysis process:\n",
    "#### STEP 1. Data Wrangling\n",
    "- Import libraries and load the data\n",
    "- Explore dataframes\n",
    "- Prepare data before concatenation\n",
    "- Concatenate the dataframes\n",
    "\n",
    "#### STEP 2. Exploratory Data Analysis (EDA)\n",
    "- Analyze Individual Feature Patterns with Visualization\n",
    "- Descriptive Statistical Analysis\n",
    "- Correlation\n",
    "\n",
    "\n",
    "\n",
    "\n"
   ]
  },
  {
   "cell_type": "markdown",
   "id": "2b093ca8",
   "metadata": {
    "papermill": {
     "duration": 0.024974,
     "end_time": "2024-01-10T16:47:12.225920",
     "exception": false,
     "start_time": "2024-01-10T16:47:12.200946",
     "status": "completed"
    },
    "tags": []
   },
   "source": [
    "# STEP 1. Data Wrangling\n",
    "- Import libraries and load the data\n",
    "- Explore dataframes\n",
    "- Prepare data before concatenation\n",
    "- Concatenate the dataframes"
   ]
  },
  {
   "cell_type": "markdown",
   "id": "9cf0357a",
   "metadata": {
    "papermill": {
     "duration": 0.025219,
     "end_time": "2024-01-10T16:47:12.276605",
     "exception": false,
     "start_time": "2024-01-10T16:47:12.251386",
     "status": "completed"
    },
    "tags": []
   },
   "source": [
    "## Import libraries and load the data"
   ]
  },
  {
   "cell_type": "code",
   "execution_count": 1,
   "id": "1b4699d7",
   "metadata": {
    "execution": {
     "iopub.execute_input": "2024-01-10T16:47:12.330316Z",
     "iopub.status.busy": "2024-01-10T16:47:12.329190Z",
     "iopub.status.idle": "2024-01-10T16:47:12.342163Z",
     "shell.execute_reply": "2024-01-10T16:47:12.340966Z"
    },
    "papermill": {
     "duration": 0.042559,
     "end_time": "2024-01-10T16:47:12.344717",
     "exception": false,
     "start_time": "2024-01-10T16:47:12.302158",
     "status": "completed"
    },
    "tags": []
   },
   "outputs": [],
   "source": [
    "# Import libraries:\n",
    "\n",
    "import numpy as np\n",
    "import pandas as pd\n",
    "import matplotlib as plt\n",
    "import os\n",
    "\n",
    "import warnings\n",
    "warnings.filterwarnings('ignore')"
   ]
  },
  {
   "cell_type": "code",
   "execution_count": 2,
   "id": "bab8d560",
   "metadata": {
    "execution": {
     "iopub.execute_input": "2024-01-10T16:47:12.399756Z",
     "iopub.status.busy": "2024-01-10T16:47:12.398427Z",
     "iopub.status.idle": "2024-01-10T16:47:12.484199Z",
     "shell.execute_reply": "2024-01-10T16:47:12.483143Z"
    },
    "papermill": {
     "duration": 0.115259,
     "end_time": "2024-01-10T16:47:12.487012",
     "exception": false,
     "start_time": "2024-01-10T16:47:12.371753",
     "status": "completed"
    },
    "tags": []
   },
   "outputs": [],
   "source": [
    "# Load data files into the different dataframes:\n",
    "\n",
    "df_2015 = pd.read_csv('../input/world-happiness/2015.csv')\n",
    "df_2016 = pd.read_csv('../input/world-happiness/2016.csv')\n",
    "df_2017 = pd.read_csv('../input/world-happiness/2017.csv')\n",
    "df_2018 = pd.read_csv('../input/world-happiness/2018.csv')\n",
    "df_2019 = pd.read_csv('../input/world-happiness/2019.csv')"
   ]
  },
  {
   "cell_type": "markdown",
   "id": "95c3d8f2",
   "metadata": {
    "papermill": {
     "duration": 0.025051,
     "end_time": "2024-01-10T16:47:12.538070",
     "exception": false,
     "start_time": "2024-01-10T16:47:12.513019",
     "status": "completed"
    },
    "tags": []
   },
   "source": [
    "## Explore dataframes"
   ]
  },
  {
   "cell_type": "code",
   "execution_count": 3,
   "id": "1618acd8",
   "metadata": {
    "execution": {
     "iopub.execute_input": "2024-01-10T16:47:12.590978Z",
     "iopub.status.busy": "2024-01-10T16:47:12.590503Z",
     "iopub.status.idle": "2024-01-10T16:47:12.622758Z",
     "shell.execute_reply": "2024-01-10T16:47:12.621438Z"
    },
    "papermill": {
     "duration": 0.062274,
     "end_time": "2024-01-10T16:47:12.625635",
     "exception": false,
     "start_time": "2024-01-10T16:47:12.563361",
     "status": "completed"
    },
    "tags": []
   },
   "outputs": [
    {
     "name": "stdout",
     "output_type": "stream",
     "text": [
      "The first rows of the dataframe 'df_2015'\n"
     ]
    },
    {
     "data": {
      "text/html": [
       "<div>\n",
       "<style scoped>\n",
       "    .dataframe tbody tr th:only-of-type {\n",
       "        vertical-align: middle;\n",
       "    }\n",
       "\n",
       "    .dataframe tbody tr th {\n",
       "        vertical-align: top;\n",
       "    }\n",
       "\n",
       "    .dataframe thead th {\n",
       "        text-align: right;\n",
       "    }\n",
       "</style>\n",
       "<table border=\"1\" class=\"dataframe\">\n",
       "  <thead>\n",
       "    <tr style=\"text-align: right;\">\n",
       "      <th></th>\n",
       "      <th>Country</th>\n",
       "      <th>Region</th>\n",
       "      <th>Happiness Rank</th>\n",
       "      <th>Happiness Score</th>\n",
       "      <th>Standard Error</th>\n",
       "      <th>Economy (GDP per Capita)</th>\n",
       "      <th>Family</th>\n",
       "      <th>Health (Life Expectancy)</th>\n",
       "      <th>Freedom</th>\n",
       "      <th>Trust (Government Corruption)</th>\n",
       "      <th>Generosity</th>\n",
       "      <th>Dystopia Residual</th>\n",
       "    </tr>\n",
       "  </thead>\n",
       "  <tbody>\n",
       "    <tr>\n",
       "      <th>0</th>\n",
       "      <td>Switzerland</td>\n",
       "      <td>Western Europe</td>\n",
       "      <td>1</td>\n",
       "      <td>7.587</td>\n",
       "      <td>0.03411</td>\n",
       "      <td>1.39651</td>\n",
       "      <td>1.34951</td>\n",
       "      <td>0.94143</td>\n",
       "      <td>0.66557</td>\n",
       "      <td>0.41978</td>\n",
       "      <td>0.29678</td>\n",
       "      <td>2.51738</td>\n",
       "    </tr>\n",
       "    <tr>\n",
       "      <th>1</th>\n",
       "      <td>Iceland</td>\n",
       "      <td>Western Europe</td>\n",
       "      <td>2</td>\n",
       "      <td>7.561</td>\n",
       "      <td>0.04884</td>\n",
       "      <td>1.30232</td>\n",
       "      <td>1.40223</td>\n",
       "      <td>0.94784</td>\n",
       "      <td>0.62877</td>\n",
       "      <td>0.14145</td>\n",
       "      <td>0.43630</td>\n",
       "      <td>2.70201</td>\n",
       "    </tr>\n",
       "    <tr>\n",
       "      <th>2</th>\n",
       "      <td>Denmark</td>\n",
       "      <td>Western Europe</td>\n",
       "      <td>3</td>\n",
       "      <td>7.527</td>\n",
       "      <td>0.03328</td>\n",
       "      <td>1.32548</td>\n",
       "      <td>1.36058</td>\n",
       "      <td>0.87464</td>\n",
       "      <td>0.64938</td>\n",
       "      <td>0.48357</td>\n",
       "      <td>0.34139</td>\n",
       "      <td>2.49204</td>\n",
       "    </tr>\n",
       "    <tr>\n",
       "      <th>3</th>\n",
       "      <td>Norway</td>\n",
       "      <td>Western Europe</td>\n",
       "      <td>4</td>\n",
       "      <td>7.522</td>\n",
       "      <td>0.03880</td>\n",
       "      <td>1.45900</td>\n",
       "      <td>1.33095</td>\n",
       "      <td>0.88521</td>\n",
       "      <td>0.66973</td>\n",
       "      <td>0.36503</td>\n",
       "      <td>0.34699</td>\n",
       "      <td>2.46531</td>\n",
       "    </tr>\n",
       "    <tr>\n",
       "      <th>4</th>\n",
       "      <td>Canada</td>\n",
       "      <td>North America</td>\n",
       "      <td>5</td>\n",
       "      <td>7.427</td>\n",
       "      <td>0.03553</td>\n",
       "      <td>1.32629</td>\n",
       "      <td>1.32261</td>\n",
       "      <td>0.90563</td>\n",
       "      <td>0.63297</td>\n",
       "      <td>0.32957</td>\n",
       "      <td>0.45811</td>\n",
       "      <td>2.45176</td>\n",
       "    </tr>\n",
       "  </tbody>\n",
       "</table>\n",
       "</div>"
      ],
      "text/plain": [
       "       Country          Region  Happiness Rank  Happiness Score  \\\n",
       "0  Switzerland  Western Europe               1            7.587   \n",
       "1      Iceland  Western Europe               2            7.561   \n",
       "2      Denmark  Western Europe               3            7.527   \n",
       "3       Norway  Western Europe               4            7.522   \n",
       "4       Canada   North America               5            7.427   \n",
       "\n",
       "   Standard Error  Economy (GDP per Capita)   Family  \\\n",
       "0         0.03411                   1.39651  1.34951   \n",
       "1         0.04884                   1.30232  1.40223   \n",
       "2         0.03328                   1.32548  1.36058   \n",
       "3         0.03880                   1.45900  1.33095   \n",
       "4         0.03553                   1.32629  1.32261   \n",
       "\n",
       "   Health (Life Expectancy)  Freedom  Trust (Government Corruption)  \\\n",
       "0                   0.94143  0.66557                        0.41978   \n",
       "1                   0.94784  0.62877                        0.14145   \n",
       "2                   0.87464  0.64938                        0.48357   \n",
       "3                   0.88521  0.66973                        0.36503   \n",
       "4                   0.90563  0.63297                        0.32957   \n",
       "\n",
       "   Generosity  Dystopia Residual  \n",
       "0     0.29678            2.51738  \n",
       "1     0.43630            2.70201  \n",
       "2     0.34139            2.49204  \n",
       "3     0.34699            2.46531  \n",
       "4     0.45811            2.45176  "
      ]
     },
     "execution_count": 3,
     "metadata": {},
     "output_type": "execute_result"
    }
   ],
   "source": [
    "# Display the first rows of the dataframes:\n",
    "\n",
    "print(\"The first rows of the dataframe 'df_2015'\")\n",
    "df_2015.head()"
   ]
  },
  {
   "cell_type": "code",
   "execution_count": 4,
   "id": "b75eade3",
   "metadata": {
    "execution": {
     "iopub.execute_input": "2024-01-10T16:47:12.679225Z",
     "iopub.status.busy": "2024-01-10T16:47:12.678758Z",
     "iopub.status.idle": "2024-01-10T16:47:12.700824Z",
     "shell.execute_reply": "2024-01-10T16:47:12.699692Z"
    },
    "papermill": {
     "duration": 0.052072,
     "end_time": "2024-01-10T16:47:12.703362",
     "exception": false,
     "start_time": "2024-01-10T16:47:12.651290",
     "status": "completed"
    },
    "tags": []
   },
   "outputs": [
    {
     "name": "stdout",
     "output_type": "stream",
     "text": [
      "First rows of the dataframe 'df_2016'\n"
     ]
    },
    {
     "data": {
      "text/html": [
       "<div>\n",
       "<style scoped>\n",
       "    .dataframe tbody tr th:only-of-type {\n",
       "        vertical-align: middle;\n",
       "    }\n",
       "\n",
       "    .dataframe tbody tr th {\n",
       "        vertical-align: top;\n",
       "    }\n",
       "\n",
       "    .dataframe thead th {\n",
       "        text-align: right;\n",
       "    }\n",
       "</style>\n",
       "<table border=\"1\" class=\"dataframe\">\n",
       "  <thead>\n",
       "    <tr style=\"text-align: right;\">\n",
       "      <th></th>\n",
       "      <th>Country</th>\n",
       "      <th>Region</th>\n",
       "      <th>Happiness Rank</th>\n",
       "      <th>Happiness Score</th>\n",
       "      <th>Lower Confidence Interval</th>\n",
       "      <th>Upper Confidence Interval</th>\n",
       "      <th>Economy (GDP per Capita)</th>\n",
       "      <th>Family</th>\n",
       "      <th>Health (Life Expectancy)</th>\n",
       "      <th>Freedom</th>\n",
       "      <th>Trust (Government Corruption)</th>\n",
       "      <th>Generosity</th>\n",
       "      <th>Dystopia Residual</th>\n",
       "    </tr>\n",
       "  </thead>\n",
       "  <tbody>\n",
       "    <tr>\n",
       "      <th>0</th>\n",
       "      <td>Denmark</td>\n",
       "      <td>Western Europe</td>\n",
       "      <td>1</td>\n",
       "      <td>7.526</td>\n",
       "      <td>7.460</td>\n",
       "      <td>7.592</td>\n",
       "      <td>1.44178</td>\n",
       "      <td>1.16374</td>\n",
       "      <td>0.79504</td>\n",
       "      <td>0.57941</td>\n",
       "      <td>0.44453</td>\n",
       "      <td>0.36171</td>\n",
       "      <td>2.73939</td>\n",
       "    </tr>\n",
       "    <tr>\n",
       "      <th>1</th>\n",
       "      <td>Switzerland</td>\n",
       "      <td>Western Europe</td>\n",
       "      <td>2</td>\n",
       "      <td>7.509</td>\n",
       "      <td>7.428</td>\n",
       "      <td>7.590</td>\n",
       "      <td>1.52733</td>\n",
       "      <td>1.14524</td>\n",
       "      <td>0.86303</td>\n",
       "      <td>0.58557</td>\n",
       "      <td>0.41203</td>\n",
       "      <td>0.28083</td>\n",
       "      <td>2.69463</td>\n",
       "    </tr>\n",
       "    <tr>\n",
       "      <th>2</th>\n",
       "      <td>Iceland</td>\n",
       "      <td>Western Europe</td>\n",
       "      <td>3</td>\n",
       "      <td>7.501</td>\n",
       "      <td>7.333</td>\n",
       "      <td>7.669</td>\n",
       "      <td>1.42666</td>\n",
       "      <td>1.18326</td>\n",
       "      <td>0.86733</td>\n",
       "      <td>0.56624</td>\n",
       "      <td>0.14975</td>\n",
       "      <td>0.47678</td>\n",
       "      <td>2.83137</td>\n",
       "    </tr>\n",
       "    <tr>\n",
       "      <th>3</th>\n",
       "      <td>Norway</td>\n",
       "      <td>Western Europe</td>\n",
       "      <td>4</td>\n",
       "      <td>7.498</td>\n",
       "      <td>7.421</td>\n",
       "      <td>7.575</td>\n",
       "      <td>1.57744</td>\n",
       "      <td>1.12690</td>\n",
       "      <td>0.79579</td>\n",
       "      <td>0.59609</td>\n",
       "      <td>0.35776</td>\n",
       "      <td>0.37895</td>\n",
       "      <td>2.66465</td>\n",
       "    </tr>\n",
       "    <tr>\n",
       "      <th>4</th>\n",
       "      <td>Finland</td>\n",
       "      <td>Western Europe</td>\n",
       "      <td>5</td>\n",
       "      <td>7.413</td>\n",
       "      <td>7.351</td>\n",
       "      <td>7.475</td>\n",
       "      <td>1.40598</td>\n",
       "      <td>1.13464</td>\n",
       "      <td>0.81091</td>\n",
       "      <td>0.57104</td>\n",
       "      <td>0.41004</td>\n",
       "      <td>0.25492</td>\n",
       "      <td>2.82596</td>\n",
       "    </tr>\n",
       "  </tbody>\n",
       "</table>\n",
       "</div>"
      ],
      "text/plain": [
       "       Country          Region  Happiness Rank  Happiness Score  \\\n",
       "0      Denmark  Western Europe               1            7.526   \n",
       "1  Switzerland  Western Europe               2            7.509   \n",
       "2      Iceland  Western Europe               3            7.501   \n",
       "3       Norway  Western Europe               4            7.498   \n",
       "4      Finland  Western Europe               5            7.413   \n",
       "\n",
       "   Lower Confidence Interval  Upper Confidence Interval  \\\n",
       "0                      7.460                      7.592   \n",
       "1                      7.428                      7.590   \n",
       "2                      7.333                      7.669   \n",
       "3                      7.421                      7.575   \n",
       "4                      7.351                      7.475   \n",
       "\n",
       "   Economy (GDP per Capita)   Family  Health (Life Expectancy)  Freedom  \\\n",
       "0                   1.44178  1.16374                   0.79504  0.57941   \n",
       "1                   1.52733  1.14524                   0.86303  0.58557   \n",
       "2                   1.42666  1.18326                   0.86733  0.56624   \n",
       "3                   1.57744  1.12690                   0.79579  0.59609   \n",
       "4                   1.40598  1.13464                   0.81091  0.57104   \n",
       "\n",
       "   Trust (Government Corruption)  Generosity  Dystopia Residual  \n",
       "0                        0.44453     0.36171            2.73939  \n",
       "1                        0.41203     0.28083            2.69463  \n",
       "2                        0.14975     0.47678            2.83137  \n",
       "3                        0.35776     0.37895            2.66465  \n",
       "4                        0.41004     0.25492            2.82596  "
      ]
     },
     "execution_count": 4,
     "metadata": {},
     "output_type": "execute_result"
    }
   ],
   "source": [
    "print(\"First rows of the dataframe 'df_2016'\")\n",
    "df_2016.head()"
   ]
  },
  {
   "cell_type": "code",
   "execution_count": 5,
   "id": "0b072e0a",
   "metadata": {
    "execution": {
     "iopub.execute_input": "2024-01-10T16:47:12.758831Z",
     "iopub.status.busy": "2024-01-10T16:47:12.758178Z",
     "iopub.status.idle": "2024-01-10T16:47:12.778212Z",
     "shell.execute_reply": "2024-01-10T16:47:12.776960Z"
    },
    "papermill": {
     "duration": 0.051332,
     "end_time": "2024-01-10T16:47:12.780927",
     "exception": false,
     "start_time": "2024-01-10T16:47:12.729595",
     "status": "completed"
    },
    "tags": []
   },
   "outputs": [
    {
     "name": "stdout",
     "output_type": "stream",
     "text": [
      "The first rows of the dataframe 'df_2017'\n"
     ]
    },
    {
     "data": {
      "text/html": [
       "<div>\n",
       "<style scoped>\n",
       "    .dataframe tbody tr th:only-of-type {\n",
       "        vertical-align: middle;\n",
       "    }\n",
       "\n",
       "    .dataframe tbody tr th {\n",
       "        vertical-align: top;\n",
       "    }\n",
       "\n",
       "    .dataframe thead th {\n",
       "        text-align: right;\n",
       "    }\n",
       "</style>\n",
       "<table border=\"1\" class=\"dataframe\">\n",
       "  <thead>\n",
       "    <tr style=\"text-align: right;\">\n",
       "      <th></th>\n",
       "      <th>Country</th>\n",
       "      <th>Happiness.Rank</th>\n",
       "      <th>Happiness.Score</th>\n",
       "      <th>Whisker.high</th>\n",
       "      <th>Whisker.low</th>\n",
       "      <th>Economy..GDP.per.Capita.</th>\n",
       "      <th>Family</th>\n",
       "      <th>Health..Life.Expectancy.</th>\n",
       "      <th>Freedom</th>\n",
       "      <th>Generosity</th>\n",
       "      <th>Trust..Government.Corruption.</th>\n",
       "      <th>Dystopia.Residual</th>\n",
       "    </tr>\n",
       "  </thead>\n",
       "  <tbody>\n",
       "    <tr>\n",
       "      <th>0</th>\n",
       "      <td>Norway</td>\n",
       "      <td>1</td>\n",
       "      <td>7.537</td>\n",
       "      <td>7.594445</td>\n",
       "      <td>7.479556</td>\n",
       "      <td>1.616463</td>\n",
       "      <td>1.533524</td>\n",
       "      <td>0.796667</td>\n",
       "      <td>0.635423</td>\n",
       "      <td>0.362012</td>\n",
       "      <td>0.315964</td>\n",
       "      <td>2.277027</td>\n",
       "    </tr>\n",
       "    <tr>\n",
       "      <th>1</th>\n",
       "      <td>Denmark</td>\n",
       "      <td>2</td>\n",
       "      <td>7.522</td>\n",
       "      <td>7.581728</td>\n",
       "      <td>7.462272</td>\n",
       "      <td>1.482383</td>\n",
       "      <td>1.551122</td>\n",
       "      <td>0.792566</td>\n",
       "      <td>0.626007</td>\n",
       "      <td>0.355280</td>\n",
       "      <td>0.400770</td>\n",
       "      <td>2.313707</td>\n",
       "    </tr>\n",
       "    <tr>\n",
       "      <th>2</th>\n",
       "      <td>Iceland</td>\n",
       "      <td>3</td>\n",
       "      <td>7.504</td>\n",
       "      <td>7.622030</td>\n",
       "      <td>7.385970</td>\n",
       "      <td>1.480633</td>\n",
       "      <td>1.610574</td>\n",
       "      <td>0.833552</td>\n",
       "      <td>0.627163</td>\n",
       "      <td>0.475540</td>\n",
       "      <td>0.153527</td>\n",
       "      <td>2.322715</td>\n",
       "    </tr>\n",
       "    <tr>\n",
       "      <th>3</th>\n",
       "      <td>Switzerland</td>\n",
       "      <td>4</td>\n",
       "      <td>7.494</td>\n",
       "      <td>7.561772</td>\n",
       "      <td>7.426227</td>\n",
       "      <td>1.564980</td>\n",
       "      <td>1.516912</td>\n",
       "      <td>0.858131</td>\n",
       "      <td>0.620071</td>\n",
       "      <td>0.290549</td>\n",
       "      <td>0.367007</td>\n",
       "      <td>2.276716</td>\n",
       "    </tr>\n",
       "    <tr>\n",
       "      <th>4</th>\n",
       "      <td>Finland</td>\n",
       "      <td>5</td>\n",
       "      <td>7.469</td>\n",
       "      <td>7.527542</td>\n",
       "      <td>7.410458</td>\n",
       "      <td>1.443572</td>\n",
       "      <td>1.540247</td>\n",
       "      <td>0.809158</td>\n",
       "      <td>0.617951</td>\n",
       "      <td>0.245483</td>\n",
       "      <td>0.382612</td>\n",
       "      <td>2.430182</td>\n",
       "    </tr>\n",
       "  </tbody>\n",
       "</table>\n",
       "</div>"
      ],
      "text/plain": [
       "       Country  Happiness.Rank  Happiness.Score  Whisker.high  Whisker.low  \\\n",
       "0       Norway               1            7.537      7.594445     7.479556   \n",
       "1      Denmark               2            7.522      7.581728     7.462272   \n",
       "2      Iceland               3            7.504      7.622030     7.385970   \n",
       "3  Switzerland               4            7.494      7.561772     7.426227   \n",
       "4      Finland               5            7.469      7.527542     7.410458   \n",
       "\n",
       "   Economy..GDP.per.Capita.    Family  Health..Life.Expectancy.   Freedom  \\\n",
       "0                  1.616463  1.533524                  0.796667  0.635423   \n",
       "1                  1.482383  1.551122                  0.792566  0.626007   \n",
       "2                  1.480633  1.610574                  0.833552  0.627163   \n",
       "3                  1.564980  1.516912                  0.858131  0.620071   \n",
       "4                  1.443572  1.540247                  0.809158  0.617951   \n",
       "\n",
       "   Generosity  Trust..Government.Corruption.  Dystopia.Residual  \n",
       "0    0.362012                       0.315964           2.277027  \n",
       "1    0.355280                       0.400770           2.313707  \n",
       "2    0.475540                       0.153527           2.322715  \n",
       "3    0.290549                       0.367007           2.276716  \n",
       "4    0.245483                       0.382612           2.430182  "
      ]
     },
     "execution_count": 5,
     "metadata": {},
     "output_type": "execute_result"
    }
   ],
   "source": [
    "print(\"The first rows of the dataframe 'df_2017'\")\n",
    "df_2017.head()"
   ]
  },
  {
   "cell_type": "code",
   "execution_count": 6,
   "id": "679e08a8",
   "metadata": {
    "execution": {
     "iopub.execute_input": "2024-01-10T16:47:12.836540Z",
     "iopub.status.busy": "2024-01-10T16:47:12.835859Z",
     "iopub.status.idle": "2024-01-10T16:47:12.854203Z",
     "shell.execute_reply": "2024-01-10T16:47:12.853064Z"
    },
    "papermill": {
     "duration": 0.049152,
     "end_time": "2024-01-10T16:47:12.856865",
     "exception": false,
     "start_time": "2024-01-10T16:47:12.807713",
     "status": "completed"
    },
    "tags": []
   },
   "outputs": [
    {
     "name": "stdout",
     "output_type": "stream",
     "text": [
      "The first rows of the dataframe 'df_2018'\n"
     ]
    },
    {
     "data": {
      "text/html": [
       "<div>\n",
       "<style scoped>\n",
       "    .dataframe tbody tr th:only-of-type {\n",
       "        vertical-align: middle;\n",
       "    }\n",
       "\n",
       "    .dataframe tbody tr th {\n",
       "        vertical-align: top;\n",
       "    }\n",
       "\n",
       "    .dataframe thead th {\n",
       "        text-align: right;\n",
       "    }\n",
       "</style>\n",
       "<table border=\"1\" class=\"dataframe\">\n",
       "  <thead>\n",
       "    <tr style=\"text-align: right;\">\n",
       "      <th></th>\n",
       "      <th>Overall rank</th>\n",
       "      <th>Country or region</th>\n",
       "      <th>Score</th>\n",
       "      <th>GDP per capita</th>\n",
       "      <th>Social support</th>\n",
       "      <th>Healthy life expectancy</th>\n",
       "      <th>Freedom to make life choices</th>\n",
       "      <th>Generosity</th>\n",
       "      <th>Perceptions of corruption</th>\n",
       "    </tr>\n",
       "  </thead>\n",
       "  <tbody>\n",
       "    <tr>\n",
       "      <th>0</th>\n",
       "      <td>1</td>\n",
       "      <td>Finland</td>\n",
       "      <td>7.632</td>\n",
       "      <td>1.305</td>\n",
       "      <td>1.592</td>\n",
       "      <td>0.874</td>\n",
       "      <td>0.681</td>\n",
       "      <td>0.202</td>\n",
       "      <td>0.393</td>\n",
       "    </tr>\n",
       "    <tr>\n",
       "      <th>1</th>\n",
       "      <td>2</td>\n",
       "      <td>Norway</td>\n",
       "      <td>7.594</td>\n",
       "      <td>1.456</td>\n",
       "      <td>1.582</td>\n",
       "      <td>0.861</td>\n",
       "      <td>0.686</td>\n",
       "      <td>0.286</td>\n",
       "      <td>0.340</td>\n",
       "    </tr>\n",
       "    <tr>\n",
       "      <th>2</th>\n",
       "      <td>3</td>\n",
       "      <td>Denmark</td>\n",
       "      <td>7.555</td>\n",
       "      <td>1.351</td>\n",
       "      <td>1.590</td>\n",
       "      <td>0.868</td>\n",
       "      <td>0.683</td>\n",
       "      <td>0.284</td>\n",
       "      <td>0.408</td>\n",
       "    </tr>\n",
       "    <tr>\n",
       "      <th>3</th>\n",
       "      <td>4</td>\n",
       "      <td>Iceland</td>\n",
       "      <td>7.495</td>\n",
       "      <td>1.343</td>\n",
       "      <td>1.644</td>\n",
       "      <td>0.914</td>\n",
       "      <td>0.677</td>\n",
       "      <td>0.353</td>\n",
       "      <td>0.138</td>\n",
       "    </tr>\n",
       "    <tr>\n",
       "      <th>4</th>\n",
       "      <td>5</td>\n",
       "      <td>Switzerland</td>\n",
       "      <td>7.487</td>\n",
       "      <td>1.420</td>\n",
       "      <td>1.549</td>\n",
       "      <td>0.927</td>\n",
       "      <td>0.660</td>\n",
       "      <td>0.256</td>\n",
       "      <td>0.357</td>\n",
       "    </tr>\n",
       "  </tbody>\n",
       "</table>\n",
       "</div>"
      ],
      "text/plain": [
       "   Overall rank Country or region  Score  GDP per capita  Social support  \\\n",
       "0             1           Finland  7.632           1.305           1.592   \n",
       "1             2            Norway  7.594           1.456           1.582   \n",
       "2             3           Denmark  7.555           1.351           1.590   \n",
       "3             4           Iceland  7.495           1.343           1.644   \n",
       "4             5       Switzerland  7.487           1.420           1.549   \n",
       "\n",
       "   Healthy life expectancy  Freedom to make life choices  Generosity  \\\n",
       "0                    0.874                         0.681       0.202   \n",
       "1                    0.861                         0.686       0.286   \n",
       "2                    0.868                         0.683       0.284   \n",
       "3                    0.914                         0.677       0.353   \n",
       "4                    0.927                         0.660       0.256   \n",
       "\n",
       "   Perceptions of corruption  \n",
       "0                      0.393  \n",
       "1                      0.340  \n",
       "2                      0.408  \n",
       "3                      0.138  \n",
       "4                      0.357  "
      ]
     },
     "execution_count": 6,
     "metadata": {},
     "output_type": "execute_result"
    }
   ],
   "source": [
    "print(\"The first rows of the dataframe 'df_2018'\")\n",
    "df_2018.head()"
   ]
  },
  {
   "cell_type": "code",
   "execution_count": 7,
   "id": "f8e3c95c",
   "metadata": {
    "execution": {
     "iopub.execute_input": "2024-01-10T16:47:12.913844Z",
     "iopub.status.busy": "2024-01-10T16:47:12.913179Z",
     "iopub.status.idle": "2024-01-10T16:47:12.932041Z",
     "shell.execute_reply": "2024-01-10T16:47:12.930887Z"
    },
    "papermill": {
     "duration": 0.050644,
     "end_time": "2024-01-10T16:47:12.934463",
     "exception": false,
     "start_time": "2024-01-10T16:47:12.883819",
     "status": "completed"
    },
    "tags": []
   },
   "outputs": [
    {
     "name": "stdout",
     "output_type": "stream",
     "text": [
      "The first rows of the dataframe 'df_2019'\n"
     ]
    },
    {
     "data": {
      "text/html": [
       "<div>\n",
       "<style scoped>\n",
       "    .dataframe tbody tr th:only-of-type {\n",
       "        vertical-align: middle;\n",
       "    }\n",
       "\n",
       "    .dataframe tbody tr th {\n",
       "        vertical-align: top;\n",
       "    }\n",
       "\n",
       "    .dataframe thead th {\n",
       "        text-align: right;\n",
       "    }\n",
       "</style>\n",
       "<table border=\"1\" class=\"dataframe\">\n",
       "  <thead>\n",
       "    <tr style=\"text-align: right;\">\n",
       "      <th></th>\n",
       "      <th>Overall rank</th>\n",
       "      <th>Country or region</th>\n",
       "      <th>Score</th>\n",
       "      <th>GDP per capita</th>\n",
       "      <th>Social support</th>\n",
       "      <th>Healthy life expectancy</th>\n",
       "      <th>Freedom to make life choices</th>\n",
       "      <th>Generosity</th>\n",
       "      <th>Perceptions of corruption</th>\n",
       "    </tr>\n",
       "  </thead>\n",
       "  <tbody>\n",
       "    <tr>\n",
       "      <th>0</th>\n",
       "      <td>1</td>\n",
       "      <td>Finland</td>\n",
       "      <td>7.769</td>\n",
       "      <td>1.340</td>\n",
       "      <td>1.587</td>\n",
       "      <td>0.986</td>\n",
       "      <td>0.596</td>\n",
       "      <td>0.153</td>\n",
       "      <td>0.393</td>\n",
       "    </tr>\n",
       "    <tr>\n",
       "      <th>1</th>\n",
       "      <td>2</td>\n",
       "      <td>Denmark</td>\n",
       "      <td>7.600</td>\n",
       "      <td>1.383</td>\n",
       "      <td>1.573</td>\n",
       "      <td>0.996</td>\n",
       "      <td>0.592</td>\n",
       "      <td>0.252</td>\n",
       "      <td>0.410</td>\n",
       "    </tr>\n",
       "    <tr>\n",
       "      <th>2</th>\n",
       "      <td>3</td>\n",
       "      <td>Norway</td>\n",
       "      <td>7.554</td>\n",
       "      <td>1.488</td>\n",
       "      <td>1.582</td>\n",
       "      <td>1.028</td>\n",
       "      <td>0.603</td>\n",
       "      <td>0.271</td>\n",
       "      <td>0.341</td>\n",
       "    </tr>\n",
       "    <tr>\n",
       "      <th>3</th>\n",
       "      <td>4</td>\n",
       "      <td>Iceland</td>\n",
       "      <td>7.494</td>\n",
       "      <td>1.380</td>\n",
       "      <td>1.624</td>\n",
       "      <td>1.026</td>\n",
       "      <td>0.591</td>\n",
       "      <td>0.354</td>\n",
       "      <td>0.118</td>\n",
       "    </tr>\n",
       "    <tr>\n",
       "      <th>4</th>\n",
       "      <td>5</td>\n",
       "      <td>Netherlands</td>\n",
       "      <td>7.488</td>\n",
       "      <td>1.396</td>\n",
       "      <td>1.522</td>\n",
       "      <td>0.999</td>\n",
       "      <td>0.557</td>\n",
       "      <td>0.322</td>\n",
       "      <td>0.298</td>\n",
       "    </tr>\n",
       "  </tbody>\n",
       "</table>\n",
       "</div>"
      ],
      "text/plain": [
       "   Overall rank Country or region  Score  GDP per capita  Social support  \\\n",
       "0             1           Finland  7.769           1.340           1.587   \n",
       "1             2           Denmark  7.600           1.383           1.573   \n",
       "2             3            Norway  7.554           1.488           1.582   \n",
       "3             4           Iceland  7.494           1.380           1.624   \n",
       "4             5       Netherlands  7.488           1.396           1.522   \n",
       "\n",
       "   Healthy life expectancy  Freedom to make life choices  Generosity  \\\n",
       "0                    0.986                         0.596       0.153   \n",
       "1                    0.996                         0.592       0.252   \n",
       "2                    1.028                         0.603       0.271   \n",
       "3                    1.026                         0.591       0.354   \n",
       "4                    0.999                         0.557       0.322   \n",
       "\n",
       "   Perceptions of corruption  \n",
       "0                      0.393  \n",
       "1                      0.410  \n",
       "2                      0.341  \n",
       "3                      0.118  \n",
       "4                      0.298  "
      ]
     },
     "execution_count": 7,
     "metadata": {},
     "output_type": "execute_result"
    }
   ],
   "source": [
    "print(\"The first rows of the dataframe 'df_2019'\")\n",
    "df_2019.head()"
   ]
  },
  {
   "cell_type": "code",
   "execution_count": 8,
   "id": "b028c01d",
   "metadata": {
    "execution": {
     "iopub.execute_input": "2024-01-10T16:47:12.992534Z",
     "iopub.status.busy": "2024-01-10T16:47:12.991811Z",
     "iopub.status.idle": "2024-01-10T16:47:12.998853Z",
     "shell.execute_reply": "2024-01-10T16:47:12.997508Z"
    },
    "papermill": {
     "duration": 0.038793,
     "end_time": "2024-01-10T16:47:13.001076",
     "exception": false,
     "start_time": "2024-01-10T16:47:12.962283",
     "status": "completed"
    },
    "tags": []
   },
   "outputs": [
    {
     "name": "stdout",
     "output_type": "stream",
     "text": [
      "(158, 12)\n",
      "(157, 13)\n",
      "(155, 12)\n",
      "(156, 9)\n",
      "(156, 9)\n"
     ]
    }
   ],
   "source": [
    "# Print the shape of each dataframe to know the number of rows and columns for each one\n",
    "\n",
    "print(df_2015.shape)\n",
    "print(df_2016.shape)\n",
    "print(df_2017.shape)\n",
    "print(df_2018.shape)\n",
    "print(df_2019.shape)"
   ]
  },
  {
   "cell_type": "markdown",
   "id": "17b524c3",
   "metadata": {
    "papermill": {
     "duration": 0.027289,
     "end_time": "2024-01-10T16:47:13.055819",
     "exception": false,
     "start_time": "2024-01-10T16:47:13.028530",
     "status": "completed"
    },
    "tags": []
   },
   "source": [
    "As you can see,the dataframes have different number of columns. Also, as each row in the datasets reprensents a Country, we can see that some countries have been not added in the last dataframes. This means we can not merge them yet. Let's analyse the columns differences."
   ]
  },
  {
   "cell_type": "code",
   "execution_count": 9,
   "id": "88d6b47a",
   "metadata": {
    "execution": {
     "iopub.execute_input": "2024-01-10T16:47:13.113165Z",
     "iopub.status.busy": "2024-01-10T16:47:13.112718Z",
     "iopub.status.idle": "2024-01-10T16:47:13.121029Z",
     "shell.execute_reply": "2024-01-10T16:47:13.119949Z"
    },
    "papermill": {
     "duration": 0.040558,
     "end_time": "2024-01-10T16:47:13.124026",
     "exception": false,
     "start_time": "2024-01-10T16:47:13.083468",
     "status": "completed"
    },
    "tags": []
   },
   "outputs": [
    {
     "name": "stdout",
     "output_type": "stream",
     "text": [
      "2015 Dataframe columns : \n",
      "Index(['Country', 'Region', 'Happiness Rank', 'Happiness Score',\n",
      "       'Standard Error', 'Economy (GDP per Capita)', 'Family',\n",
      "       'Health (Life Expectancy)', 'Freedom', 'Trust (Government Corruption)',\n",
      "       'Generosity', 'Dystopia Residual'],\n",
      "      dtype='object') \n",
      "\n",
      "2016 Dataframe columns : \n",
      "Index(['Country', 'Region', 'Happiness Rank', 'Happiness Score',\n",
      "       'Lower Confidence Interval', 'Upper Confidence Interval',\n",
      "       'Economy (GDP per Capita)', 'Family', 'Health (Life Expectancy)',\n",
      "       'Freedom', 'Trust (Government Corruption)', 'Generosity',\n",
      "       'Dystopia Residual'],\n",
      "      dtype='object') \n",
      "\n",
      "2017 Dataframe columns : \n",
      "Index(['Country', 'Happiness.Rank', 'Happiness.Score', 'Whisker.high',\n",
      "       'Whisker.low', 'Economy..GDP.per.Capita.', 'Family',\n",
      "       'Health..Life.Expectancy.', 'Freedom', 'Generosity',\n",
      "       'Trust..Government.Corruption.', 'Dystopia.Residual'],\n",
      "      dtype='object') \n",
      "\n",
      "2018 Dataframe columns : \n",
      "Index(['Overall rank', 'Country or region', 'Score', 'GDP per capita',\n",
      "       'Social support', 'Healthy life expectancy',\n",
      "       'Freedom to make life choices', 'Generosity',\n",
      "       'Perceptions of corruption'],\n",
      "      dtype='object') \n",
      "\n",
      "2019 Dataframe columns : \n",
      "Index(['Overall rank', 'Country or region', 'Score', 'GDP per capita',\n",
      "       'Social support', 'Healthy life expectancy',\n",
      "       'Freedom to make life choices', 'Generosity',\n",
      "       'Perceptions of corruption'],\n",
      "      dtype='object') \n",
      "\n"
     ]
    }
   ],
   "source": [
    "# Print columns names for each dataframe:\n",
    "\n",
    "print(\"2015 Dataframe columns : \")\n",
    "print(df_2015.columns,\"\\n\")\n",
    "print(\"2016 Dataframe columns : \")\n",
    "print(df_2016.columns,\"\\n\")\n",
    "print(\"2017 Dataframe columns : \")\n",
    "print(df_2017.columns,\"\\n\")\n",
    "print(\"2018 Dataframe columns : \")\n",
    "print(df_2018.columns,\"\\n\")\n",
    "print(\"2019 Dataframe columns : \")\n",
    "print(df_2019.columns,\"\\n\")"
   ]
  },
  {
   "cell_type": "markdown",
   "id": "e480a5c8",
   "metadata": {
    "papermill": {
     "duration": 0.027524,
     "end_time": "2024-01-10T16:47:13.179056",
     "exception": false,
     "start_time": "2024-01-10T16:47:13.151532",
     "status": "completed"
    },
    "tags": []
   },
   "source": [
    "#### Conclusion:\n",
    "Firstly, from the columns names we can see that some dataframes have extra columns:\n",
    "- 2015 DataFrame : Standard Error, Dystopia Residual\n",
    "- 2016 DataFrame : Lower Confidence Interval, Upper Confidence Interval, Dystopia Residual\n",
    "- 2017 DataFrame : Whisker.high, Whisker.low\n",
    "\n",
    "Secondly, the \"Region\" column is not longer available in the 2017-2019 datasets. As this column may be interesting to analyse, we will add it to the dataframes.\n",
    "\n",
    "Thirdly, for the rest of columns, we'll need to rename in order to have the same names in all the dataframes."
   ]
  },
  {
   "cell_type": "markdown",
   "id": "0737e416",
   "metadata": {
    "papermill": {
     "duration": 0.027467,
     "end_time": "2024-01-10T16:47:13.234333",
     "exception": false,
     "start_time": "2024-01-10T16:47:13.206866",
     "status": "completed"
    },
    "tags": []
   },
   "source": [
    "## Prepare data before concatenation"
   ]
  },
  {
   "cell_type": "code",
   "execution_count": 10,
   "id": "50fe3b06",
   "metadata": {
    "execution": {
     "iopub.execute_input": "2024-01-10T16:47:13.291610Z",
     "iopub.status.busy": "2024-01-10T16:47:13.291197Z",
     "iopub.status.idle": "2024-01-10T16:47:13.306223Z",
     "shell.execute_reply": "2024-01-10T16:47:13.305368Z"
    },
    "papermill": {
     "duration": 0.046742,
     "end_time": "2024-01-10T16:47:13.308858",
     "exception": false,
     "start_time": "2024-01-10T16:47:13.262116",
     "status": "completed"
    },
    "tags": []
   },
   "outputs": [],
   "source": [
    "# Drop extra columns:\n",
    "\n",
    "df_2015.drop([\"Standard Error\", \"Dystopia Residual\"], axis = 1, inplace= True)\n",
    "df_2016.drop([\"Lower Confidence Interval\", \"Upper Confidence Interval\", \"Dystopia Residual\"], axis = 1, inplace= True)\n",
    "df_2017.drop([\"Whisker.high\", \"Whisker.low\",\"Dystopia.Residual\"], axis = 1, inplace= True)"
   ]
  },
  {
   "cell_type": "markdown",
   "id": "2661665c",
   "metadata": {
    "papermill": {
     "duration": 0.02881,
     "end_time": "2024-01-10T16:47:13.366356",
     "exception": false,
     "start_time": "2024-01-10T16:47:13.337546",
     "status": "completed"
    },
    "tags": []
   },
   "source": [
    "In order to prepare our data to be merged, we'll change the column's names for each dataframe so that all the columns are named the same."
   ]
  },
  {
   "cell_type": "code",
   "execution_count": 11,
   "id": "b467bac1",
   "metadata": {
    "execution": {
     "iopub.execute_input": "2024-01-10T16:47:13.424237Z",
     "iopub.status.busy": "2024-01-10T16:47:13.423534Z",
     "iopub.status.idle": "2024-01-10T16:47:13.431708Z",
     "shell.execute_reply": "2024-01-10T16:47:13.430848Z"
    },
    "papermill": {
     "duration": 0.040278,
     "end_time": "2024-01-10T16:47:13.434470",
     "exception": false,
     "start_time": "2024-01-10T16:47:13.394192",
     "status": "completed"
    },
    "tags": []
   },
   "outputs": [],
   "source": [
    "# Rename columns in dataframes:\n",
    "\n",
    "df_2015.columns = ['Country', 'Region', 'Happiness_Rank', 'Happiness_Score',\n",
    "       'GDP_per_capita', 'Family', 'Health',\n",
    "       'Freedom', 'Corruption_perception', 'Generosity']\n",
    "\n",
    "df_2016.columns = ['Country', 'Region', 'Happiness_Rank', 'Happiness_Score',\n",
    "       'GDP_per_capita', 'Family', 'Health',\n",
    "       'Freedom', 'Corruption_perception', 'Generosity']\n",
    "\n",
    "df_2017.columns = ['Country', 'Happiness_Rank', 'Happiness_Score',\n",
    "       'GDP_per_capita', 'Family', 'Health',\n",
    "       'Freedom', 'Generosity','Corruption_perception']\n",
    "\n",
    "df_2018.columns = ['Happiness_Rank', 'Country', 'Happiness_Score',\n",
    "       'GDP_per_capita', 'Family', 'Health',\n",
    "       'Freedom', 'Generosity','Corruption_perception']\n",
    "\n",
    "df_2019.columns = ['Happiness_Rank', 'Country', 'Happiness_Score',\n",
    "       'GDP_per_capita', 'Family', 'Health',\n",
    "       'Freedom', 'Generosity','Corruption_perception']"
   ]
  },
  {
   "cell_type": "code",
   "execution_count": 12,
   "id": "6f75ab15",
   "metadata": {
    "execution": {
     "iopub.execute_input": "2024-01-10T16:47:13.492114Z",
     "iopub.status.busy": "2024-01-10T16:47:13.491639Z",
     "iopub.status.idle": "2024-01-10T16:47:13.501249Z",
     "shell.execute_reply": "2024-01-10T16:47:13.500026Z"
    },
    "papermill": {
     "duration": 0.041534,
     "end_time": "2024-01-10T16:47:13.504033",
     "exception": false,
     "start_time": "2024-01-10T16:47:13.462499",
     "status": "completed"
    },
    "tags": []
   },
   "outputs": [],
   "source": [
    "# Set the Country column as the index column for all dataframes:\n",
    "\n",
    "df_2015 = df_2015.set_index(\"Country\")\n",
    "df_2016 = df_2016.set_index(\"Country\")\n",
    "df_2017 = df_2017.set_index(\"Country\")\n",
    "df_2018 = df_2018.set_index(\"Country\")\n",
    "df_2019 = df_2019.set_index(\"Country\")"
   ]
  },
  {
   "cell_type": "markdown",
   "id": "f633a012",
   "metadata": {
    "papermill": {
     "duration": 0.02757,
     "end_time": "2024-01-10T16:47:13.559287",
     "exception": false,
     "start_time": "2024-01-10T16:47:13.531717",
     "status": "completed"
    },
    "tags": []
   },
   "source": [
    "Now, to merge all datasets we need to add the \"Region\" column to those dataframes without it. To do so we'll look for the value corresponding to each country in 2015 and 2016 datasets. As a first step we'll merge the 2015 and 2016 datasets."
   ]
  },
  {
   "cell_type": "code",
   "execution_count": 13,
   "id": "0e959586",
   "metadata": {
    "execution": {
     "iopub.execute_input": "2024-01-10T16:47:13.617532Z",
     "iopub.status.busy": "2024-01-10T16:47:13.616865Z",
     "iopub.status.idle": "2024-01-10T16:47:13.626980Z",
     "shell.execute_reply": "2024-01-10T16:47:13.626030Z"
    },
    "papermill": {
     "duration": 0.041703,
     "end_time": "2024-01-10T16:47:13.629347",
     "exception": false,
     "start_time": "2024-01-10T16:47:13.587644",
     "status": "completed"
    },
    "tags": []
   },
   "outputs": [],
   "source": [
    "# Add a Year column to all dataframes:\n",
    "\n",
    "df_2015[\"Year\"] = \"2015\"\n",
    "df_2016[\"Year\"] = \"2016\"\n",
    "df_2017[\"Year\"] = \"2017\"\n",
    "df_2018[\"Year\"] = \"2018\"\n",
    "df_2019[\"Year\"] = \"2019\""
   ]
  },
  {
   "cell_type": "code",
   "execution_count": 14,
   "id": "25b142cd",
   "metadata": {
    "execution": {
     "iopub.execute_input": "2024-01-10T16:47:13.687104Z",
     "iopub.status.busy": "2024-01-10T16:47:13.686302Z",
     "iopub.status.idle": "2024-01-10T16:47:13.708342Z",
     "shell.execute_reply": "2024-01-10T16:47:13.706814Z"
    },
    "papermill": {
     "duration": 0.053743,
     "end_time": "2024-01-10T16:47:13.711033",
     "exception": false,
     "start_time": "2024-01-10T16:47:13.657290",
     "status": "completed"
    },
    "tags": []
   },
   "outputs": [
    {
     "name": "stdout",
     "output_type": "stream",
     "text": [
      "(315, 10)\n"
     ]
    },
    {
     "data": {
      "text/html": [
       "<div>\n",
       "<style scoped>\n",
       "    .dataframe tbody tr th:only-of-type {\n",
       "        vertical-align: middle;\n",
       "    }\n",
       "\n",
       "    .dataframe tbody tr th {\n",
       "        vertical-align: top;\n",
       "    }\n",
       "\n",
       "    .dataframe thead th {\n",
       "        text-align: right;\n",
       "    }\n",
       "</style>\n",
       "<table border=\"1\" class=\"dataframe\">\n",
       "  <thead>\n",
       "    <tr style=\"text-align: right;\">\n",
       "      <th></th>\n",
       "      <th>Region</th>\n",
       "      <th>Happiness_Rank</th>\n",
       "      <th>Happiness_Score</th>\n",
       "      <th>GDP_per_capita</th>\n",
       "      <th>Family</th>\n",
       "      <th>Health</th>\n",
       "      <th>Freedom</th>\n",
       "      <th>Corruption_perception</th>\n",
       "      <th>Generosity</th>\n",
       "      <th>Year</th>\n",
       "    </tr>\n",
       "    <tr>\n",
       "      <th>Country</th>\n",
       "      <th></th>\n",
       "      <th></th>\n",
       "      <th></th>\n",
       "      <th></th>\n",
       "      <th></th>\n",
       "      <th></th>\n",
       "      <th></th>\n",
       "      <th></th>\n",
       "      <th></th>\n",
       "      <th></th>\n",
       "    </tr>\n",
       "  </thead>\n",
       "  <tbody>\n",
       "    <tr>\n",
       "      <th>Switzerland</th>\n",
       "      <td>Western Europe</td>\n",
       "      <td>1</td>\n",
       "      <td>7.587</td>\n",
       "      <td>1.39651</td>\n",
       "      <td>1.34951</td>\n",
       "      <td>0.94143</td>\n",
       "      <td>0.66557</td>\n",
       "      <td>0.41978</td>\n",
       "      <td>0.29678</td>\n",
       "      <td>2015</td>\n",
       "    </tr>\n",
       "    <tr>\n",
       "      <th>Iceland</th>\n",
       "      <td>Western Europe</td>\n",
       "      <td>2</td>\n",
       "      <td>7.561</td>\n",
       "      <td>1.30232</td>\n",
       "      <td>1.40223</td>\n",
       "      <td>0.94784</td>\n",
       "      <td>0.62877</td>\n",
       "      <td>0.14145</td>\n",
       "      <td>0.43630</td>\n",
       "      <td>2015</td>\n",
       "    </tr>\n",
       "    <tr>\n",
       "      <th>Denmark</th>\n",
       "      <td>Western Europe</td>\n",
       "      <td>3</td>\n",
       "      <td>7.527</td>\n",
       "      <td>1.32548</td>\n",
       "      <td>1.36058</td>\n",
       "      <td>0.87464</td>\n",
       "      <td>0.64938</td>\n",
       "      <td>0.48357</td>\n",
       "      <td>0.34139</td>\n",
       "      <td>2015</td>\n",
       "    </tr>\n",
       "    <tr>\n",
       "      <th>Norway</th>\n",
       "      <td>Western Europe</td>\n",
       "      <td>4</td>\n",
       "      <td>7.522</td>\n",
       "      <td>1.45900</td>\n",
       "      <td>1.33095</td>\n",
       "      <td>0.88521</td>\n",
       "      <td>0.66973</td>\n",
       "      <td>0.36503</td>\n",
       "      <td>0.34699</td>\n",
       "      <td>2015</td>\n",
       "    </tr>\n",
       "    <tr>\n",
       "      <th>Canada</th>\n",
       "      <td>North America</td>\n",
       "      <td>5</td>\n",
       "      <td>7.427</td>\n",
       "      <td>1.32629</td>\n",
       "      <td>1.32261</td>\n",
       "      <td>0.90563</td>\n",
       "      <td>0.63297</td>\n",
       "      <td>0.32957</td>\n",
       "      <td>0.45811</td>\n",
       "      <td>2015</td>\n",
       "    </tr>\n",
       "  </tbody>\n",
       "</table>\n",
       "</div>"
      ],
      "text/plain": [
       "                     Region  Happiness_Rank  Happiness_Score  GDP_per_capita  \\\n",
       "Country                                                                        \n",
       "Switzerland  Western Europe               1            7.587         1.39651   \n",
       "Iceland      Western Europe               2            7.561         1.30232   \n",
       "Denmark      Western Europe               3            7.527         1.32548   \n",
       "Norway       Western Europe               4            7.522         1.45900   \n",
       "Canada        North America               5            7.427         1.32629   \n",
       "\n",
       "              Family   Health  Freedom  Corruption_perception  Generosity  \\\n",
       "Country                                                                     \n",
       "Switzerland  1.34951  0.94143  0.66557                0.41978     0.29678   \n",
       "Iceland      1.40223  0.94784  0.62877                0.14145     0.43630   \n",
       "Denmark      1.36058  0.87464  0.64938                0.48357     0.34139   \n",
       "Norway       1.33095  0.88521  0.66973                0.36503     0.34699   \n",
       "Canada       1.32261  0.90563  0.63297                0.32957     0.45811   \n",
       "\n",
       "             Year  \n",
       "Country            \n",
       "Switzerland  2015  \n",
       "Iceland      2015  \n",
       "Denmark      2015  \n",
       "Norway       2015  \n",
       "Canada       2015  "
      ]
     },
     "execution_count": 14,
     "metadata": {},
     "output_type": "execute_result"
    }
   ],
   "source": [
    "# Concatenate our dataframes to cover all Country-Region pairs:\n",
    "\n",
    "df = pd.concat([df_2015,df_2016])\n",
    "print(df.shape)\n",
    "df.head()"
   ]
  },
  {
   "cell_type": "code",
   "execution_count": 15,
   "id": "39526776",
   "metadata": {
    "execution": {
     "iopub.execute_input": "2024-01-10T16:47:13.772117Z",
     "iopub.status.busy": "2024-01-10T16:47:13.771629Z",
     "iopub.status.idle": "2024-01-10T16:47:13.783529Z",
     "shell.execute_reply": "2024-01-10T16:47:13.782584Z"
    },
    "papermill": {
     "duration": 0.045151,
     "end_time": "2024-01-10T16:47:13.785927",
     "exception": false,
     "start_time": "2024-01-10T16:47:13.740776",
     "status": "completed"
    },
    "tags": []
   },
   "outputs": [],
   "source": [
    "# Create a dictionnary with the values 'Country' as key and 'Region' as value:\n",
    "\n",
    "country_region = pd.DataFrame(df['Region'])\n",
    "country_region.reset_index().drop_duplicates(subset='Country', inplace= True)\n",
    "country_region = pd.Series(country_region.Region, index= country_region.index).to_dict()"
   ]
  },
  {
   "cell_type": "markdown",
   "id": "636ff251",
   "metadata": {
    "papermill": {
     "duration": 0.027877,
     "end_time": "2024-01-10T16:47:13.842338",
     "exception": false,
     "start_time": "2024-01-10T16:47:13.814461",
     "status": "completed"
    },
    "tags": []
   },
   "source": [
    "Now we'll add a new column 'Region' to our 2017-2019 datasets. And we'll insert the Region value based in the dictionary we have just created."
   ]
  },
  {
   "cell_type": "code",
   "execution_count": 16,
   "id": "1402dd05",
   "metadata": {
    "execution": {
     "iopub.execute_input": "2024-01-10T16:47:13.901397Z",
     "iopub.status.busy": "2024-01-10T16:47:13.900171Z",
     "iopub.status.idle": "2024-01-10T16:47:13.910891Z",
     "shell.execute_reply": "2024-01-10T16:47:13.909430Z"
    },
    "papermill": {
     "duration": 0.042972,
     "end_time": "2024-01-10T16:47:13.913608",
     "exception": false,
     "start_time": "2024-01-10T16:47:13.870636",
     "status": "completed"
    },
    "tags": []
   },
   "outputs": [],
   "source": [
    "# Map the country value with our dictionary to get the region value:\n",
    "\n",
    "df_2017[\"Region\"] = df_2017.index.map(country_region)\n",
    "df_2018[\"Region\"] = df_2018.index.map(country_region)\n",
    "df_2019[\"Region\"] = df_2019.index.map(country_region)"
   ]
  },
  {
   "cell_type": "code",
   "execution_count": 17,
   "id": "5d2bd6c4",
   "metadata": {
    "execution": {
     "iopub.execute_input": "2024-01-10T16:47:13.972282Z",
     "iopub.status.busy": "2024-01-10T16:47:13.971158Z",
     "iopub.status.idle": "2024-01-10T16:47:13.978522Z",
     "shell.execute_reply": "2024-01-10T16:47:13.977313Z"
    },
    "papermill": {
     "duration": 0.039345,
     "end_time": "2024-01-10T16:47:13.980979",
     "exception": false,
     "start_time": "2024-01-10T16:47:13.941634",
     "status": "completed"
    },
    "tags": []
   },
   "outputs": [
    {
     "name": "stdout",
     "output_type": "stream",
     "text": [
      "2017 Dataframe columns : \n",
      "Index(['Happiness_Rank', 'Happiness_Score', 'GDP_per_capita', 'Family',\n",
      "       'Health', 'Freedom', 'Generosity', 'Corruption_perception', 'Year',\n",
      "       'Region'],\n",
      "      dtype='object') \n",
      "\n",
      "2018 Dataframe columns : \n",
      "Index(['Happiness_Rank', 'Happiness_Score', 'GDP_per_capita', 'Family',\n",
      "       'Health', 'Freedom', 'Generosity', 'Corruption_perception', 'Year',\n",
      "       'Region'],\n",
      "      dtype='object') \n",
      "\n",
      "2019 Dataframe columns : \n",
      "Index(['Happiness_Rank', 'Happiness_Score', 'GDP_per_capita', 'Family',\n",
      "       'Health', 'Freedom', 'Generosity', 'Corruption_perception', 'Year',\n",
      "       'Region'],\n",
      "      dtype='object') \n",
      "\n"
     ]
    }
   ],
   "source": [
    "# Let's check the result:\n",
    "\n",
    "print(\"2017 Dataframe columns : \")\n",
    "print(df_2017.columns,\"\\n\")\n",
    "print(\"2018 Dataframe columns : \")\n",
    "print(df_2018.columns,\"\\n\")\n",
    "print(\"2019 Dataframe columns : \")\n",
    "print(df_2019.columns,\"\\n\")"
   ]
  },
  {
   "cell_type": "markdown",
   "id": "eb80d2c6",
   "metadata": {
    "papermill": {
     "duration": 0.027935,
     "end_time": "2024-01-10T16:47:14.037544",
     "exception": false,
     "start_time": "2024-01-10T16:47:14.009609",
     "status": "completed"
    },
    "tags": []
   },
   "source": [
    "#### Conclusion:\n",
    "\n",
    "We made our dataframes clean and consistent. And, now we can concatenate all the dataframes into the single one for the next steps of the analysis."
   ]
  },
  {
   "cell_type": "markdown",
   "id": "9b2c76e3",
   "metadata": {
    "papermill": {
     "duration": 0.027947,
     "end_time": "2024-01-10T16:47:14.093676",
     "exception": false,
     "start_time": "2024-01-10T16:47:14.065729",
     "status": "completed"
    },
    "tags": []
   },
   "source": [
    "## Concatenate the dataframes"
   ]
  },
  {
   "cell_type": "code",
   "execution_count": 18,
   "id": "6843740a",
   "metadata": {
    "execution": {
     "iopub.execute_input": "2024-01-10T16:47:14.151836Z",
     "iopub.status.busy": "2024-01-10T16:47:14.151381Z",
     "iopub.status.idle": "2024-01-10T16:47:14.159847Z",
     "shell.execute_reply": "2024-01-10T16:47:14.158893Z"
    },
    "papermill": {
     "duration": 0.040276,
     "end_time": "2024-01-10T16:47:14.162119",
     "exception": false,
     "start_time": "2024-01-10T16:47:14.121843",
     "status": "completed"
    },
    "tags": []
   },
   "outputs": [],
   "source": [
    "# Merge all the datasets into the single one:\n",
    "df = pd.concat([df, df_2017, df_2018, df_2019])"
   ]
  },
  {
   "cell_type": "code",
   "execution_count": 19,
   "id": "7fee5585",
   "metadata": {
    "execution": {
     "iopub.execute_input": "2024-01-10T16:47:14.221303Z",
     "iopub.status.busy": "2024-01-10T16:47:14.220539Z",
     "iopub.status.idle": "2024-01-10T16:47:14.238487Z",
     "shell.execute_reply": "2024-01-10T16:47:14.237388Z"
    },
    "papermill": {
     "duration": 0.050143,
     "end_time": "2024-01-10T16:47:14.241014",
     "exception": false,
     "start_time": "2024-01-10T16:47:14.190871",
     "status": "completed"
    },
    "tags": []
   },
   "outputs": [
    {
     "data": {
      "text/html": [
       "<div>\n",
       "<style scoped>\n",
       "    .dataframe tbody tr th:only-of-type {\n",
       "        vertical-align: middle;\n",
       "    }\n",
       "\n",
       "    .dataframe tbody tr th {\n",
       "        vertical-align: top;\n",
       "    }\n",
       "\n",
       "    .dataframe thead th {\n",
       "        text-align: right;\n",
       "    }\n",
       "</style>\n",
       "<table border=\"1\" class=\"dataframe\">\n",
       "  <thead>\n",
       "    <tr style=\"text-align: right;\">\n",
       "      <th></th>\n",
       "      <th>Region</th>\n",
       "      <th>Happiness_Rank</th>\n",
       "      <th>Happiness_Score</th>\n",
       "      <th>GDP_per_capita</th>\n",
       "      <th>Family</th>\n",
       "      <th>Health</th>\n",
       "      <th>Freedom</th>\n",
       "      <th>Corruption_perception</th>\n",
       "      <th>Generosity</th>\n",
       "      <th>Year</th>\n",
       "    </tr>\n",
       "    <tr>\n",
       "      <th>Country</th>\n",
       "      <th></th>\n",
       "      <th></th>\n",
       "      <th></th>\n",
       "      <th></th>\n",
       "      <th></th>\n",
       "      <th></th>\n",
       "      <th></th>\n",
       "      <th></th>\n",
       "      <th></th>\n",
       "      <th></th>\n",
       "    </tr>\n",
       "  </thead>\n",
       "  <tbody>\n",
       "    <tr>\n",
       "      <th>Switzerland</th>\n",
       "      <td>Western Europe</td>\n",
       "      <td>1</td>\n",
       "      <td>7.587</td>\n",
       "      <td>1.39651</td>\n",
       "      <td>1.34951</td>\n",
       "      <td>0.94143</td>\n",
       "      <td>0.66557</td>\n",
       "      <td>0.41978</td>\n",
       "      <td>0.29678</td>\n",
       "      <td>2015</td>\n",
       "    </tr>\n",
       "    <tr>\n",
       "      <th>Iceland</th>\n",
       "      <td>Western Europe</td>\n",
       "      <td>2</td>\n",
       "      <td>7.561</td>\n",
       "      <td>1.30232</td>\n",
       "      <td>1.40223</td>\n",
       "      <td>0.94784</td>\n",
       "      <td>0.62877</td>\n",
       "      <td>0.14145</td>\n",
       "      <td>0.43630</td>\n",
       "      <td>2015</td>\n",
       "    </tr>\n",
       "    <tr>\n",
       "      <th>Denmark</th>\n",
       "      <td>Western Europe</td>\n",
       "      <td>3</td>\n",
       "      <td>7.527</td>\n",
       "      <td>1.32548</td>\n",
       "      <td>1.36058</td>\n",
       "      <td>0.87464</td>\n",
       "      <td>0.64938</td>\n",
       "      <td>0.48357</td>\n",
       "      <td>0.34139</td>\n",
       "      <td>2015</td>\n",
       "    </tr>\n",
       "    <tr>\n",
       "      <th>Norway</th>\n",
       "      <td>Western Europe</td>\n",
       "      <td>4</td>\n",
       "      <td>7.522</td>\n",
       "      <td>1.45900</td>\n",
       "      <td>1.33095</td>\n",
       "      <td>0.88521</td>\n",
       "      <td>0.66973</td>\n",
       "      <td>0.36503</td>\n",
       "      <td>0.34699</td>\n",
       "      <td>2015</td>\n",
       "    </tr>\n",
       "    <tr>\n",
       "      <th>Canada</th>\n",
       "      <td>North America</td>\n",
       "      <td>5</td>\n",
       "      <td>7.427</td>\n",
       "      <td>1.32629</td>\n",
       "      <td>1.32261</td>\n",
       "      <td>0.90563</td>\n",
       "      <td>0.63297</td>\n",
       "      <td>0.32957</td>\n",
       "      <td>0.45811</td>\n",
       "      <td>2015</td>\n",
       "    </tr>\n",
       "  </tbody>\n",
       "</table>\n",
       "</div>"
      ],
      "text/plain": [
       "                     Region  Happiness_Rank  Happiness_Score  GDP_per_capita  \\\n",
       "Country                                                                        \n",
       "Switzerland  Western Europe               1            7.587         1.39651   \n",
       "Iceland      Western Europe               2            7.561         1.30232   \n",
       "Denmark      Western Europe               3            7.527         1.32548   \n",
       "Norway       Western Europe               4            7.522         1.45900   \n",
       "Canada        North America               5            7.427         1.32629   \n",
       "\n",
       "              Family   Health  Freedom  Corruption_perception  Generosity  \\\n",
       "Country                                                                     \n",
       "Switzerland  1.34951  0.94143  0.66557                0.41978     0.29678   \n",
       "Iceland      1.40223  0.94784  0.62877                0.14145     0.43630   \n",
       "Denmark      1.36058  0.87464  0.64938                0.48357     0.34139   \n",
       "Norway       1.33095  0.88521  0.66973                0.36503     0.34699   \n",
       "Canada       1.32261  0.90563  0.63297                0.32957     0.45811   \n",
       "\n",
       "             Year  \n",
       "Country            \n",
       "Switzerland  2015  \n",
       "Iceland      2015  \n",
       "Denmark      2015  \n",
       "Norway       2015  \n",
       "Canada       2015  "
      ]
     },
     "execution_count": 19,
     "metadata": {},
     "output_type": "execute_result"
    }
   ],
   "source": [
    "# Display the first rows of the concatenated dataframe:\n",
    "\n",
    "df.head()"
   ]
  },
  {
   "cell_type": "code",
   "execution_count": 20,
   "id": "102e2749",
   "metadata": {
    "execution": {
     "iopub.execute_input": "2024-01-10T16:47:14.301783Z",
     "iopub.status.busy": "2024-01-10T16:47:14.301370Z",
     "iopub.status.idle": "2024-01-10T16:47:14.308142Z",
     "shell.execute_reply": "2024-01-10T16:47:14.306980Z"
    },
    "papermill": {
     "duration": 0.041278,
     "end_time": "2024-01-10T16:47:14.310794",
     "exception": false,
     "start_time": "2024-01-10T16:47:14.269516",
     "status": "completed"
    },
    "tags": []
   },
   "outputs": [
    {
     "data": {
      "text/plain": [
       "(782, 10)"
      ]
     },
     "execution_count": 20,
     "metadata": {},
     "output_type": "execute_result"
    }
   ],
   "source": [
    "# Check the shape of the dataframe:\n",
    "\n",
    "df.shape"
   ]
  },
  {
   "cell_type": "code",
   "execution_count": 21,
   "id": "6e51e25a",
   "metadata": {
    "execution": {
     "iopub.execute_input": "2024-01-10T16:47:14.372591Z",
     "iopub.status.busy": "2024-01-10T16:47:14.372107Z",
     "iopub.status.idle": "2024-01-10T16:47:14.379114Z",
     "shell.execute_reply": "2024-01-10T16:47:14.377500Z"
    },
    "papermill": {
     "duration": 0.042079,
     "end_time": "2024-01-10T16:47:14.381696",
     "exception": false,
     "start_time": "2024-01-10T16:47:14.339617",
     "status": "completed"
    },
    "tags": []
   },
   "outputs": [],
   "source": [
    "# Detect the misssing data:\n",
    "\n",
    "missing_data = df.isnull()"
   ]
  },
  {
   "cell_type": "code",
   "execution_count": 22,
   "id": "476a91b7",
   "metadata": {
    "execution": {
     "iopub.execute_input": "2024-01-10T16:47:14.441865Z",
     "iopub.status.busy": "2024-01-10T16:47:14.441477Z",
     "iopub.status.idle": "2024-01-10T16:47:14.457477Z",
     "shell.execute_reply": "2024-01-10T16:47:14.456395Z"
    },
    "papermill": {
     "duration": 0.048781,
     "end_time": "2024-01-10T16:47:14.459659",
     "exception": false,
     "start_time": "2024-01-10T16:47:14.410878",
     "status": "completed"
    },
    "tags": []
   },
   "outputs": [
    {
     "data": {
      "text/html": [
       "<div>\n",
       "<style scoped>\n",
       "    .dataframe tbody tr th:only-of-type {\n",
       "        vertical-align: middle;\n",
       "    }\n",
       "\n",
       "    .dataframe tbody tr th {\n",
       "        vertical-align: top;\n",
       "    }\n",
       "\n",
       "    .dataframe thead th {\n",
       "        text-align: right;\n",
       "    }\n",
       "</style>\n",
       "<table border=\"1\" class=\"dataframe\">\n",
       "  <thead>\n",
       "    <tr style=\"text-align: right;\">\n",
       "      <th></th>\n",
       "      <th>Region</th>\n",
       "      <th>Happiness_Rank</th>\n",
       "      <th>Happiness_Score</th>\n",
       "      <th>GDP_per_capita</th>\n",
       "      <th>Family</th>\n",
       "      <th>Health</th>\n",
       "      <th>Freedom</th>\n",
       "      <th>Corruption_perception</th>\n",
       "      <th>Generosity</th>\n",
       "      <th>Year</th>\n",
       "    </tr>\n",
       "    <tr>\n",
       "      <th>Country</th>\n",
       "      <th></th>\n",
       "      <th></th>\n",
       "      <th></th>\n",
       "      <th></th>\n",
       "      <th></th>\n",
       "      <th></th>\n",
       "      <th></th>\n",
       "      <th></th>\n",
       "      <th></th>\n",
       "      <th></th>\n",
       "    </tr>\n",
       "  </thead>\n",
       "  <tbody>\n",
       "    <tr>\n",
       "      <th>Switzerland</th>\n",
       "      <td>False</td>\n",
       "      <td>False</td>\n",
       "      <td>False</td>\n",
       "      <td>False</td>\n",
       "      <td>False</td>\n",
       "      <td>False</td>\n",
       "      <td>False</td>\n",
       "      <td>False</td>\n",
       "      <td>False</td>\n",
       "      <td>False</td>\n",
       "    </tr>\n",
       "    <tr>\n",
       "      <th>Iceland</th>\n",
       "      <td>False</td>\n",
       "      <td>False</td>\n",
       "      <td>False</td>\n",
       "      <td>False</td>\n",
       "      <td>False</td>\n",
       "      <td>False</td>\n",
       "      <td>False</td>\n",
       "      <td>False</td>\n",
       "      <td>False</td>\n",
       "      <td>False</td>\n",
       "    </tr>\n",
       "    <tr>\n",
       "      <th>Denmark</th>\n",
       "      <td>False</td>\n",
       "      <td>False</td>\n",
       "      <td>False</td>\n",
       "      <td>False</td>\n",
       "      <td>False</td>\n",
       "      <td>False</td>\n",
       "      <td>False</td>\n",
       "      <td>False</td>\n",
       "      <td>False</td>\n",
       "      <td>False</td>\n",
       "    </tr>\n",
       "    <tr>\n",
       "      <th>Norway</th>\n",
       "      <td>False</td>\n",
       "      <td>False</td>\n",
       "      <td>False</td>\n",
       "      <td>False</td>\n",
       "      <td>False</td>\n",
       "      <td>False</td>\n",
       "      <td>False</td>\n",
       "      <td>False</td>\n",
       "      <td>False</td>\n",
       "      <td>False</td>\n",
       "    </tr>\n",
       "    <tr>\n",
       "      <th>Canada</th>\n",
       "      <td>False</td>\n",
       "      <td>False</td>\n",
       "      <td>False</td>\n",
       "      <td>False</td>\n",
       "      <td>False</td>\n",
       "      <td>False</td>\n",
       "      <td>False</td>\n",
       "      <td>False</td>\n",
       "      <td>False</td>\n",
       "      <td>False</td>\n",
       "    </tr>\n",
       "  </tbody>\n",
       "</table>\n",
       "</div>"
      ],
      "text/plain": [
       "             Region  Happiness_Rank  Happiness_Score  GDP_per_capita  Family  \\\n",
       "Country                                                                        \n",
       "Switzerland   False           False            False           False   False   \n",
       "Iceland       False           False            False           False   False   \n",
       "Denmark       False           False            False           False   False   \n",
       "Norway        False           False            False           False   False   \n",
       "Canada        False           False            False           False   False   \n",
       "\n",
       "             Health  Freedom  Corruption_perception  Generosity   Year  \n",
       "Country                                                                 \n",
       "Switzerland   False    False                  False       False  False  \n",
       "Iceland       False    False                  False       False  False  \n",
       "Denmark       False    False                  False       False  False  \n",
       "Norway        False    False                  False       False  False  \n",
       "Canada        False    False                  False       False  False  "
      ]
     },
     "execution_count": 22,
     "metadata": {},
     "output_type": "execute_result"
    }
   ],
   "source": [
    "# Let's observe 'missing_data':\n",
    "\n",
    "missing_data.head()"
   ]
  },
  {
   "cell_type": "code",
   "execution_count": 23,
   "id": "1b56e85a",
   "metadata": {
    "execution": {
     "iopub.execute_input": "2024-01-10T16:47:14.522186Z",
     "iopub.status.busy": "2024-01-10T16:47:14.521083Z",
     "iopub.status.idle": "2024-01-10T16:47:14.539773Z",
     "shell.execute_reply": "2024-01-10T16:47:14.538565Z"
    },
    "papermill": {
     "duration": 0.052533,
     "end_time": "2024-01-10T16:47:14.542332",
     "exception": false,
     "start_time": "2024-01-10T16:47:14.489799",
     "status": "completed"
    },
    "tags": []
   },
   "outputs": [
    {
     "name": "stdout",
     "output_type": "stream",
     "text": [
      "Region\n",
      "False    774\n",
      "True       8\n",
      "Name: Region, dtype: int64\n",
      "\n",
      "Happiness_Rank\n",
      "False    782\n",
      "Name: Happiness_Rank, dtype: int64\n",
      "\n",
      "Happiness_Score\n",
      "False    782\n",
      "Name: Happiness_Score, dtype: int64\n",
      "\n",
      "GDP_per_capita\n",
      "False    782\n",
      "Name: GDP_per_capita, dtype: int64\n",
      "\n",
      "Family\n",
      "False    782\n",
      "Name: Family, dtype: int64\n",
      "\n",
      "Health\n",
      "False    782\n",
      "Name: Health, dtype: int64\n",
      "\n",
      "Freedom\n",
      "False    782\n",
      "Name: Freedom, dtype: int64\n",
      "\n",
      "Corruption_perception\n",
      "False    781\n",
      "True       1\n",
      "Name: Corruption_perception, dtype: int64\n",
      "\n",
      "Generosity\n",
      "False    782\n",
      "Name: Generosity, dtype: int64\n",
      "\n",
      "Year\n",
      "False    782\n",
      "Name: Year, dtype: int64\n",
      "\n"
     ]
    }
   ],
   "source": [
    "# Count missing values in each column:\n",
    "\n",
    "for column in missing_data.columns.values.tolist():\n",
    "    print(column)\n",
    "    print (missing_data[column].value_counts())\n",
    "    print(\"\")    "
   ]
  },
  {
   "cell_type": "code",
   "execution_count": 24,
   "id": "b74ed9ba",
   "metadata": {
    "execution": {
     "iopub.execute_input": "2024-01-10T16:47:14.604037Z",
     "iopub.status.busy": "2024-01-10T16:47:14.602950Z",
     "iopub.status.idle": "2024-01-10T16:47:14.623622Z",
     "shell.execute_reply": "2024-01-10T16:47:14.622383Z"
    },
    "papermill": {
     "duration": 0.054771,
     "end_time": "2024-01-10T16:47:14.626301",
     "exception": false,
     "start_time": "2024-01-10T16:47:14.571530",
     "status": "completed"
    },
    "tags": []
   },
   "outputs": [
    {
     "data": {
      "text/html": [
       "<div>\n",
       "<style scoped>\n",
       "    .dataframe tbody tr th:only-of-type {\n",
       "        vertical-align: middle;\n",
       "    }\n",
       "\n",
       "    .dataframe tbody tr th {\n",
       "        vertical-align: top;\n",
       "    }\n",
       "\n",
       "    .dataframe thead th {\n",
       "        text-align: right;\n",
       "    }\n",
       "</style>\n",
       "<table border=\"1\" class=\"dataframe\">\n",
       "  <thead>\n",
       "    <tr style=\"text-align: right;\">\n",
       "      <th></th>\n",
       "      <th>Region</th>\n",
       "      <th>Happiness_Rank</th>\n",
       "      <th>Happiness_Score</th>\n",
       "      <th>GDP_per_capita</th>\n",
       "      <th>Family</th>\n",
       "      <th>Health</th>\n",
       "      <th>Freedom</th>\n",
       "      <th>Corruption_perception</th>\n",
       "      <th>Generosity</th>\n",
       "      <th>Year</th>\n",
       "    </tr>\n",
       "    <tr>\n",
       "      <th>Country</th>\n",
       "      <th></th>\n",
       "      <th></th>\n",
       "      <th></th>\n",
       "      <th></th>\n",
       "      <th></th>\n",
       "      <th></th>\n",
       "      <th></th>\n",
       "      <th></th>\n",
       "      <th></th>\n",
       "      <th></th>\n",
       "    </tr>\n",
       "  </thead>\n",
       "  <tbody>\n",
       "    <tr>\n",
       "      <th>Taiwan Province of China</th>\n",
       "      <td>NaN</td>\n",
       "      <td>33</td>\n",
       "      <td>6.422</td>\n",
       "      <td>1.433627</td>\n",
       "      <td>1.384565</td>\n",
       "      <td>0.793984</td>\n",
       "      <td>0.361467</td>\n",
       "      <td>0.063829</td>\n",
       "      <td>0.258360</td>\n",
       "      <td>2017</td>\n",
       "    </tr>\n",
       "    <tr>\n",
       "      <th>Hong Kong S.A.R., China</th>\n",
       "      <td>NaN</td>\n",
       "      <td>71</td>\n",
       "      <td>5.472</td>\n",
       "      <td>1.551675</td>\n",
       "      <td>1.262791</td>\n",
       "      <td>0.943062</td>\n",
       "      <td>0.490969</td>\n",
       "      <td>0.293934</td>\n",
       "      <td>0.374466</td>\n",
       "      <td>2017</td>\n",
       "    </tr>\n",
       "    <tr>\n",
       "      <th>Trinidad &amp; Tobago</th>\n",
       "      <td>NaN</td>\n",
       "      <td>38</td>\n",
       "      <td>6.192</td>\n",
       "      <td>1.223000</td>\n",
       "      <td>1.492000</td>\n",
       "      <td>0.564000</td>\n",
       "      <td>0.575000</td>\n",
       "      <td>0.019000</td>\n",
       "      <td>0.171000</td>\n",
       "      <td>2018</td>\n",
       "    </tr>\n",
       "    <tr>\n",
       "      <th>Northern Cyprus</th>\n",
       "      <td>NaN</td>\n",
       "      <td>58</td>\n",
       "      <td>5.835</td>\n",
       "      <td>1.229000</td>\n",
       "      <td>1.211000</td>\n",
       "      <td>0.909000</td>\n",
       "      <td>0.495000</td>\n",
       "      <td>0.154000</td>\n",
       "      <td>0.179000</td>\n",
       "      <td>2018</td>\n",
       "    </tr>\n",
       "    <tr>\n",
       "      <th>Trinidad &amp; Tobago</th>\n",
       "      <td>NaN</td>\n",
       "      <td>39</td>\n",
       "      <td>6.192</td>\n",
       "      <td>1.231000</td>\n",
       "      <td>1.477000</td>\n",
       "      <td>0.713000</td>\n",
       "      <td>0.489000</td>\n",
       "      <td>0.016000</td>\n",
       "      <td>0.185000</td>\n",
       "      <td>2019</td>\n",
       "    </tr>\n",
       "    <tr>\n",
       "      <th>Northern Cyprus</th>\n",
       "      <td>NaN</td>\n",
       "      <td>64</td>\n",
       "      <td>5.718</td>\n",
       "      <td>1.263000</td>\n",
       "      <td>1.252000</td>\n",
       "      <td>1.042000</td>\n",
       "      <td>0.417000</td>\n",
       "      <td>0.162000</td>\n",
       "      <td>0.191000</td>\n",
       "      <td>2019</td>\n",
       "    </tr>\n",
       "    <tr>\n",
       "      <th>North Macedonia</th>\n",
       "      <td>NaN</td>\n",
       "      <td>84</td>\n",
       "      <td>5.274</td>\n",
       "      <td>0.983000</td>\n",
       "      <td>1.294000</td>\n",
       "      <td>0.838000</td>\n",
       "      <td>0.345000</td>\n",
       "      <td>0.034000</td>\n",
       "      <td>0.185000</td>\n",
       "      <td>2019</td>\n",
       "    </tr>\n",
       "    <tr>\n",
       "      <th>Gambia</th>\n",
       "      <td>NaN</td>\n",
       "      <td>120</td>\n",
       "      <td>4.516</td>\n",
       "      <td>0.308000</td>\n",
       "      <td>0.939000</td>\n",
       "      <td>0.428000</td>\n",
       "      <td>0.382000</td>\n",
       "      <td>0.167000</td>\n",
       "      <td>0.269000</td>\n",
       "      <td>2019</td>\n",
       "    </tr>\n",
       "  </tbody>\n",
       "</table>\n",
       "</div>"
      ],
      "text/plain": [
       "                         Region  Happiness_Rank  Happiness_Score  \\\n",
       "Country                                                            \n",
       "Taiwan Province of China    NaN              33            6.422   \n",
       "Hong Kong S.A.R., China     NaN              71            5.472   \n",
       "Trinidad & Tobago           NaN              38            6.192   \n",
       "Northern Cyprus             NaN              58            5.835   \n",
       "Trinidad & Tobago           NaN              39            6.192   \n",
       "Northern Cyprus             NaN              64            5.718   \n",
       "North Macedonia             NaN              84            5.274   \n",
       "Gambia                      NaN             120            4.516   \n",
       "\n",
       "                          GDP_per_capita    Family    Health   Freedom  \\\n",
       "Country                                                                  \n",
       "Taiwan Province of China        1.433627  1.384565  0.793984  0.361467   \n",
       "Hong Kong S.A.R., China         1.551675  1.262791  0.943062  0.490969   \n",
       "Trinidad & Tobago               1.223000  1.492000  0.564000  0.575000   \n",
       "Northern Cyprus                 1.229000  1.211000  0.909000  0.495000   \n",
       "Trinidad & Tobago               1.231000  1.477000  0.713000  0.489000   \n",
       "Northern Cyprus                 1.263000  1.252000  1.042000  0.417000   \n",
       "North Macedonia                 0.983000  1.294000  0.838000  0.345000   \n",
       "Gambia                          0.308000  0.939000  0.428000  0.382000   \n",
       "\n",
       "                          Corruption_perception  Generosity  Year  \n",
       "Country                                                            \n",
       "Taiwan Province of China               0.063829    0.258360  2017  \n",
       "Hong Kong S.A.R., China                0.293934    0.374466  2017  \n",
       "Trinidad & Tobago                      0.019000    0.171000  2018  \n",
       "Northern Cyprus                        0.154000    0.179000  2018  \n",
       "Trinidad & Tobago                      0.016000    0.185000  2019  \n",
       "Northern Cyprus                        0.162000    0.191000  2019  \n",
       "North Macedonia                        0.034000    0.185000  2019  \n",
       "Gambia                                 0.167000    0.269000  2019  "
      ]
     },
     "execution_count": 24,
     "metadata": {},
     "output_type": "execute_result"
    }
   ],
   "source": [
    "# Show the Countries with NaN value in the 'Region' column:\n",
    "\n",
    "df[df['Region'].isna()]"
   ]
  },
  {
   "cell_type": "markdown",
   "id": "15cc13a0",
   "metadata": {
    "papermill": {
     "duration": 0.029123,
     "end_time": "2024-01-10T16:47:14.684988",
     "exception": false,
     "start_time": "2024-01-10T16:47:14.655865",
     "status": "completed"
    },
    "tags": []
   },
   "source": [
    "If we explore the \"Region\" column, we'll see that some countries have a NaN value.\n",
    "This may be because the country was not in our dictionary or because the name was not the same in our different dataframes.\n",
    "We can see, for some countries as Taiwan and Hong Kong, the sufix may have caused an error while adding the \"Region\" column. Lets change the names and correct the 'Region' value."
   ]
  },
  {
   "cell_type": "code",
   "execution_count": 25,
   "id": "59fc7cc8",
   "metadata": {
    "execution": {
     "iopub.execute_input": "2024-01-10T16:47:14.746955Z",
     "iopub.status.busy": "2024-01-10T16:47:14.745687Z",
     "iopub.status.idle": "2024-01-10T16:47:14.759940Z",
     "shell.execute_reply": "2024-01-10T16:47:14.759019Z"
    },
    "papermill": {
     "duration": 0.047881,
     "end_time": "2024-01-10T16:47:14.762419",
     "exception": false,
     "start_time": "2024-01-10T16:47:14.714538",
     "status": "completed"
    },
    "tags": []
   },
   "outputs": [],
   "source": [
    "# Rename index:\n",
    "\n",
    "df.rename(index={'Taiwan Province of China':'Taiwan'},inplace=True)\n",
    "df.rename(index={'Hong Kong S.A.R., China':'Hong Kong'},inplace=True)\n",
    "df.rename(index={'Trinidad & Tobago':'Trinidad and Tobago'},inplace=True)\n",
    "df.rename(index={'Northern Cyprus':'North Cyprus'},inplace=True)\n",
    "df.rename(index={'North Macedonia':'Macedonia'},inplace=True)"
   ]
  },
  {
   "cell_type": "code",
   "execution_count": 26,
   "id": "b386c54a",
   "metadata": {
    "execution": {
     "iopub.execute_input": "2024-01-10T16:47:14.823525Z",
     "iopub.status.busy": "2024-01-10T16:47:14.822819Z",
     "iopub.status.idle": "2024-01-10T16:47:14.831002Z",
     "shell.execute_reply": "2024-01-10T16:47:14.829733Z"
    },
    "papermill": {
     "duration": 0.041576,
     "end_time": "2024-01-10T16:47:14.833652",
     "exception": false,
     "start_time": "2024-01-10T16:47:14.792076",
     "status": "completed"
    },
    "tags": []
   },
   "outputs": [],
   "source": [
    "# Add the correct Region value to changed index:\n",
    "\n",
    "df.loc[\"Taiwan\",\"Region\"] = country_region.get(\"Taiwan\")\n",
    "df.loc[\"Hong Kong\",\"Region\"] = country_region.get(\"Hong Kong\")\n",
    "df.loc[\"Trinidad and Tobago\",\"Region\"] = country_region.get(\"Trinidad and Tobago\")\n",
    "df.loc[\"North Cyprus\",\"Region\"] = country_region.get(\"North Cyprus\")\n",
    "df.loc[\"Macedonia\",\"Region\"] = country_region.get(\"Macedonia\")"
   ]
  },
  {
   "cell_type": "code",
   "execution_count": 27,
   "id": "e7b0bcb6",
   "metadata": {
    "execution": {
     "iopub.execute_input": "2024-01-10T16:47:14.894837Z",
     "iopub.status.busy": "2024-01-10T16:47:14.893739Z",
     "iopub.status.idle": "2024-01-10T16:47:14.912439Z",
     "shell.execute_reply": "2024-01-10T16:47:14.911102Z"
    },
    "papermill": {
     "duration": 0.052009,
     "end_time": "2024-01-10T16:47:14.915159",
     "exception": false,
     "start_time": "2024-01-10T16:47:14.863150",
     "status": "completed"
    },
    "tags": []
   },
   "outputs": [
    {
     "data": {
      "text/html": [
       "<div>\n",
       "<style scoped>\n",
       "    .dataframe tbody tr th:only-of-type {\n",
       "        vertical-align: middle;\n",
       "    }\n",
       "\n",
       "    .dataframe tbody tr th {\n",
       "        vertical-align: top;\n",
       "    }\n",
       "\n",
       "    .dataframe thead th {\n",
       "        text-align: right;\n",
       "    }\n",
       "</style>\n",
       "<table border=\"1\" class=\"dataframe\">\n",
       "  <thead>\n",
       "    <tr style=\"text-align: right;\">\n",
       "      <th></th>\n",
       "      <th>Region</th>\n",
       "      <th>Happiness_Rank</th>\n",
       "      <th>Happiness_Score</th>\n",
       "      <th>GDP_per_capita</th>\n",
       "      <th>Family</th>\n",
       "      <th>Health</th>\n",
       "      <th>Freedom</th>\n",
       "      <th>Corruption_perception</th>\n",
       "      <th>Generosity</th>\n",
       "      <th>Year</th>\n",
       "    </tr>\n",
       "    <tr>\n",
       "      <th>Country</th>\n",
       "      <th></th>\n",
       "      <th></th>\n",
       "      <th></th>\n",
       "      <th></th>\n",
       "      <th></th>\n",
       "      <th></th>\n",
       "      <th></th>\n",
       "      <th></th>\n",
       "      <th></th>\n",
       "      <th></th>\n",
       "    </tr>\n",
       "  </thead>\n",
       "  <tbody>\n",
       "    <tr>\n",
       "      <th>Gambia</th>\n",
       "      <td>NaN</td>\n",
       "      <td>120</td>\n",
       "      <td>4.516</td>\n",
       "      <td>0.308</td>\n",
       "      <td>0.939</td>\n",
       "      <td>0.428</td>\n",
       "      <td>0.382</td>\n",
       "      <td>0.167</td>\n",
       "      <td>0.269</td>\n",
       "      <td>2019</td>\n",
       "    </tr>\n",
       "  </tbody>\n",
       "</table>\n",
       "</div>"
      ],
      "text/plain": [
       "        Region  Happiness_Rank  Happiness_Score  GDP_per_capita  Family  \\\n",
       "Country                                                                   \n",
       "Gambia     NaN             120            4.516           0.308   0.939   \n",
       "\n",
       "         Health  Freedom  Corruption_perception  Generosity  Year  \n",
       "Country                                                            \n",
       "Gambia    0.428    0.382                  0.167       0.269  2019  "
      ]
     },
     "execution_count": 27,
     "metadata": {},
     "output_type": "execute_result"
    }
   ],
   "source": [
    "# Show the Countries with NaN value in the 'Region' column:\n",
    "\n",
    "df[df[\"Region\"].isna()]"
   ]
  },
  {
   "cell_type": "markdown",
   "id": "b6b184e9",
   "metadata": {
    "papermill": {
     "duration": 0.029587,
     "end_time": "2024-01-10T16:47:14.974666",
     "exception": false,
     "start_time": "2024-01-10T16:47:14.945079",
     "status": "completed"
    },
    "tags": []
   },
   "source": [
    "We still have issues for Gambia. As for Gambia we only have date from 2019, the easiest solution in this case is to erase this value as it has no high impact in our data."
   ]
  },
  {
   "cell_type": "code",
   "execution_count": 28,
   "id": "04a53627",
   "metadata": {
    "execution": {
     "iopub.execute_input": "2024-01-10T16:47:15.035815Z",
     "iopub.status.busy": "2024-01-10T16:47:15.035435Z",
     "iopub.status.idle": "2024-01-10T16:47:15.043701Z",
     "shell.execute_reply": "2024-01-10T16:47:15.042522Z"
    },
    "papermill": {
     "duration": 0.04155,
     "end_time": "2024-01-10T16:47:15.045874",
     "exception": false,
     "start_time": "2024-01-10T16:47:15.004324",
     "status": "completed"
    },
    "tags": []
   },
   "outputs": [],
   "source": [
    "# Remove whole row for the counrty \"Gambia\":\n",
    "\n",
    "df.drop([\"Gambia\"], axis = 0, inplace= True)"
   ]
  },
  {
   "cell_type": "markdown",
   "id": "bfc7e400",
   "metadata": {
    "papermill": {
     "duration": 0.029397,
     "end_time": "2024-01-10T16:47:15.105198",
     "exception": false,
     "start_time": "2024-01-10T16:47:15.075801",
     "status": "completed"
    },
    "tags": []
   },
   "source": [
    "#### Conclusion:\n",
    "We have finished Data Wrangling step. Now our dataset is ready for the next step of the data analysis process - Exploratory Data Analysis. "
   ]
  },
  {
   "cell_type": "markdown",
   "id": "e3617682",
   "metadata": {
    "papermill": {
     "duration": 0.029391,
     "end_time": "2024-01-10T16:47:15.164337",
     "exception": false,
     "start_time": "2024-01-10T16:47:15.134946",
     "status": "completed"
    },
    "tags": []
   },
   "source": [
    "# STEP 2. Exploratory Data Analysis (EDA)\n",
    "- Analyze Individual Feature Patterns with Visualization\n",
    "- Descriptive Statistical Analysis\n",
    "- Correlation"
   ]
  },
  {
   "cell_type": "markdown",
   "id": "05c5fb7a",
   "metadata": {
    "papermill": {
     "duration": 0.029211,
     "end_time": "2024-01-10T16:47:15.223185",
     "exception": false,
     "start_time": "2024-01-10T16:47:15.193974",
     "status": "completed"
    },
    "tags": []
   },
   "source": [
    "## Analyze Individual Feature Patterns with Visualization"
   ]
  },
  {
   "cell_type": "code",
   "execution_count": 29,
   "id": "39c2f13f",
   "metadata": {
    "execution": {
     "iopub.execute_input": "2024-01-10T16:47:15.285333Z",
     "iopub.status.busy": "2024-01-10T16:47:15.284881Z",
     "iopub.status.idle": "2024-01-10T16:47:17.636119Z",
     "shell.execute_reply": "2024-01-10T16:47:17.634964Z"
    },
    "papermill": {
     "duration": 2.385434,
     "end_time": "2024-01-10T16:47:17.639184",
     "exception": false,
     "start_time": "2024-01-10T16:47:15.253750",
     "status": "completed"
    },
    "tags": []
   },
   "outputs": [],
   "source": [
    "# Import libraries:\n",
    "\n",
    "import matplotlib.pyplot as plt\n",
    "import seaborn as sns\n",
    "import plotly.express as px\n",
    "%matplotlib inline "
   ]
  },
  {
   "cell_type": "markdown",
   "id": "defbd343",
   "metadata": {
    "papermill": {
     "duration": 0.029411,
     "end_time": "2024-01-10T16:47:17.699851",
     "exception": false,
     "start_time": "2024-01-10T16:47:17.670440",
     "status": "completed"
    },
    "tags": []
   },
   "source": [
    "In order to find the right visualization method for the variable, it is important to first understand what type of variable you are dealing with. "
   ]
  },
  {
   "cell_type": "code",
   "execution_count": 30,
   "id": "3c719cef",
   "metadata": {
    "execution": {
     "iopub.execute_input": "2024-01-10T16:47:17.761598Z",
     "iopub.status.busy": "2024-01-10T16:47:17.761221Z",
     "iopub.status.idle": "2024-01-10T16:47:17.767402Z",
     "shell.execute_reply": "2024-01-10T16:47:17.766245Z"
    },
    "papermill": {
     "duration": 0.041199,
     "end_time": "2024-01-10T16:47:17.770705",
     "exception": false,
     "start_time": "2024-01-10T16:47:17.729506",
     "status": "completed"
    },
    "tags": []
   },
   "outputs": [
    {
     "name": "stdout",
     "output_type": "stream",
     "text": [
      "Region                    object\n",
      "Happiness_Rank             int64\n",
      "Happiness_Score          float64\n",
      "GDP_per_capita           float64\n",
      "Family                   float64\n",
      "Health                   float64\n",
      "Freedom                  float64\n",
      "Corruption_perception    float64\n",
      "Generosity               float64\n",
      "Year                      object\n",
      "dtype: object\n"
     ]
    }
   ],
   "source": [
    "# List the data types for each column:\n",
    "\n",
    "print(df.dtypes)"
   ]
  },
  {
   "cell_type": "markdown",
   "id": "77b78943",
   "metadata": {
    "papermill": {
     "duration": 0.029587,
     "end_time": "2024-01-10T16:47:17.830288",
     "exception": false,
     "start_time": "2024-01-10T16:47:17.800701",
     "status": "completed"
    },
    "tags": []
   },
   "source": [
    "To get started we'll define our 'Happiness Score' variable as the dependent variable and other variables as predictors (except of 'Year' variable).\n",
    "\n",
    "In order to start understanding the (linear) relationship between an individual variable and the 'Happiness_Score', we can use \"regplot\" which plots the scatterplot plus the fitted regression line for the data. "
   ]
  },
  {
   "cell_type": "code",
   "execution_count": 31,
   "id": "27cb7216",
   "metadata": {
    "execution": {
     "iopub.execute_input": "2024-01-10T16:47:17.892081Z",
     "iopub.status.busy": "2024-01-10T16:47:17.891667Z",
     "iopub.status.idle": "2024-01-10T16:47:18.431696Z",
     "shell.execute_reply": "2024-01-10T16:47:18.430354Z"
    },
    "papermill": {
     "duration": 0.574375,
     "end_time": "2024-01-10T16:47:18.434681",
     "exception": false,
     "start_time": "2024-01-10T16:47:17.860306",
     "status": "completed"
    },
    "tags": []
   },
   "outputs": [
    {
     "data": {
      "text/plain": [
       "(0.0, 8.381672984540254)"
      ]
     },
     "execution_count": 31,
     "metadata": {},
     "output_type": "execute_result"
    },
    {
     "data": {
      "image/png": "[encoded data removed]",
      "text/plain": [
       "<Figure size 640x480 with 1 Axes>"
      ]
     },
     "metadata": {},
     "output_type": "display_data"
    }
   ],
   "source": [
    "# 'GDP_per_capita' as potential predictor variable of 'Happiness_Score':\n",
    "\n",
    "sns.regplot(x=\"GDP_per_capita\", y=\"Happiness_Score\", data=df)\n",
    "plt.ylim(0,)"
   ]
  },
  {
   "cell_type": "code",
   "execution_count": 32,
   "id": "e5709c1d",
   "metadata": {
    "execution": {
     "iopub.execute_input": "2024-01-10T16:47:18.500415Z",
     "iopub.status.busy": "2024-01-10T16:47:18.499981Z",
     "iopub.status.idle": "2024-01-10T16:47:18.514705Z",
     "shell.execute_reply": "2024-01-10T16:47:18.513465Z"
    },
    "papermill": {
     "duration": 0.05111,
     "end_time": "2024-01-10T16:47:18.517387",
     "exception": false,
     "start_time": "2024-01-10T16:47:18.466277",
     "status": "completed"
    },
    "tags": []
   },
   "outputs": [
    {
     "data": {
      "text/html": [
       "<div>\n",
       "<style scoped>\n",
       "    .dataframe tbody tr th:only-of-type {\n",
       "        vertical-align: middle;\n",
       "    }\n",
       "\n",
       "    .dataframe tbody tr th {\n",
       "        vertical-align: top;\n",
       "    }\n",
       "\n",
       "    .dataframe thead th {\n",
       "        text-align: right;\n",
       "    }\n",
       "</style>\n",
       "<table border=\"1\" class=\"dataframe\">\n",
       "  <thead>\n",
       "    <tr style=\"text-align: right;\">\n",
       "      <th></th>\n",
       "      <th>GDP_per_capita</th>\n",
       "      <th>Happiness_Score</th>\n",
       "    </tr>\n",
       "  </thead>\n",
       "  <tbody>\n",
       "    <tr>\n",
       "      <th>GDP_per_capita</th>\n",
       "      <td>1.000000</td>\n",
       "      <td>0.789243</td>\n",
       "    </tr>\n",
       "    <tr>\n",
       "      <th>Happiness_Score</th>\n",
       "      <td>0.789243</td>\n",
       "      <td>1.000000</td>\n",
       "    </tr>\n",
       "  </tbody>\n",
       "</table>\n",
       "</div>"
      ],
      "text/plain": [
       "                 GDP_per_capita  Happiness_Score\n",
       "GDP_per_capita         1.000000         0.789243\n",
       "Happiness_Score        0.789243         1.000000"
      ]
     },
     "execution_count": 32,
     "metadata": {},
     "output_type": "execute_result"
    }
   ],
   "source": [
    "# Examine the correlation between 'GDP_per_capita' and 'Happiness_Score':\n",
    "\n",
    "df[[\"GDP_per_capita\", \"Happiness_Score\"]].corr()"
   ]
  },
  {
   "cell_type": "code",
   "execution_count": 33,
   "id": "a261006f",
   "metadata": {
    "execution": {
     "iopub.execute_input": "2024-01-10T16:47:18.582520Z",
     "iopub.status.busy": "2024-01-10T16:47:18.582084Z",
     "iopub.status.idle": "2024-01-10T16:47:19.092245Z",
     "shell.execute_reply": "2024-01-10T16:47:19.090965Z"
    },
    "papermill": {
     "duration": 0.546049,
     "end_time": "2024-01-10T16:47:19.094979",
     "exception": false,
     "start_time": "2024-01-10T16:47:18.548930",
     "status": "completed"
    },
    "tags": []
   },
   "outputs": [
    {
     "data": {
      "text/plain": [
       "(0.0, 8.022799996089935)"
      ]
     },
     "execution_count": 33,
     "metadata": {},
     "output_type": "execute_result"
    },
    {
     "data": {
      "image/png": "[encoded data removed]",
      "text/plain": [
       "<Figure size 640x480 with 1 Axes>"
      ]
     },
     "metadata": {},
     "output_type": "display_data"
    }
   ],
   "source": [
    "# 'Family' as potential predictor variable of 'Happiness_Score':\n",
    "\n",
    "sns.regplot(x=\"Family\", y=\"Happiness_Score\", data=df)\n",
    "plt.ylim(0,)"
   ]
  },
  {
   "cell_type": "code",
   "execution_count": 34,
   "id": "def1e472",
   "metadata": {
    "execution": {
     "iopub.execute_input": "2024-01-10T16:47:19.164620Z",
     "iopub.status.busy": "2024-01-10T16:47:19.164190Z",
     "iopub.status.idle": "2024-01-10T16:47:19.177732Z",
     "shell.execute_reply": "2024-01-10T16:47:19.176506Z"
    },
    "papermill": {
     "duration": 0.05123,
     "end_time": "2024-01-10T16:47:19.180122",
     "exception": false,
     "start_time": "2024-01-10T16:47:19.128892",
     "status": "completed"
    },
    "tags": []
   },
   "outputs": [
    {
     "data": {
      "text/html": [
       "<div>\n",
       "<style scoped>\n",
       "    .dataframe tbody tr th:only-of-type {\n",
       "        vertical-align: middle;\n",
       "    }\n",
       "\n",
       "    .dataframe tbody tr th {\n",
       "        vertical-align: top;\n",
       "    }\n",
       "\n",
       "    .dataframe thead th {\n",
       "        text-align: right;\n",
       "    }\n",
       "</style>\n",
       "<table border=\"1\" class=\"dataframe\">\n",
       "  <thead>\n",
       "    <tr style=\"text-align: right;\">\n",
       "      <th></th>\n",
       "      <th>Family</th>\n",
       "      <th>Happiness_Score</th>\n",
       "    </tr>\n",
       "  </thead>\n",
       "  <tbody>\n",
       "    <tr>\n",
       "      <th>Family</th>\n",
       "      <td>1.000000</td>\n",
       "      <td>0.648702</td>\n",
       "    </tr>\n",
       "    <tr>\n",
       "      <th>Happiness_Score</th>\n",
       "      <td>0.648702</td>\n",
       "      <td>1.000000</td>\n",
       "    </tr>\n",
       "  </tbody>\n",
       "</table>\n",
       "</div>"
      ],
      "text/plain": [
       "                   Family  Happiness_Score\n",
       "Family           1.000000         0.648702\n",
       "Happiness_Score  0.648702         1.000000"
      ]
     },
     "execution_count": 34,
     "metadata": {},
     "output_type": "execute_result"
    }
   ],
   "source": [
    "# Examine the correlation between 'Family' and 'Happiness_Score':\n",
    "\n",
    "df[[\"Family\", \"Happiness_Score\"]].corr()"
   ]
  },
  {
   "cell_type": "code",
   "execution_count": 35,
   "id": "d7eed880",
   "metadata": {
    "execution": {
     "iopub.execute_input": "2024-01-10T16:47:19.249362Z",
     "iopub.status.busy": "2024-01-10T16:47:19.248932Z",
     "iopub.status.idle": "2024-01-10T16:47:19.749305Z",
     "shell.execute_reply": "2024-01-10T16:47:19.748071Z"
    },
    "papermill": {
     "duration": 0.537914,
     "end_time": "2024-01-10T16:47:19.752080",
     "exception": false,
     "start_time": "2024-01-10T16:47:19.214166",
     "status": "completed"
    },
    "tags": []
   },
   "outputs": [
    {
     "data": {
      "text/plain": [
       "(0.0, 8.022799996089935)"
      ]
     },
     "execution_count": 35,
     "metadata": {},
     "output_type": "execute_result"
    },
    {
     "data": {
      "image/png": "[encoded data removed]",
      "text/plain": [
       "<Figure size 640x480 with 1 Axes>"
      ]
     },
     "metadata": {},
     "output_type": "display_data"
    }
   ],
   "source": [
    "# 'Health' as potential predictor variable of 'Happiness_Score':\n",
    "\n",
    "sns.regplot(x=\"Health\", y=\"Happiness_Score\", data=df)\n",
    "plt.ylim(0,)"
   ]
  },
  {
   "cell_type": "code",
   "execution_count": 36,
   "id": "610974a1",
   "metadata": {
    "execution": {
     "iopub.execute_input": "2024-01-10T16:47:19.827021Z",
     "iopub.status.busy": "2024-01-10T16:47:19.826211Z",
     "iopub.status.idle": "2024-01-10T16:47:19.837703Z",
     "shell.execute_reply": "2024-01-10T16:47:19.836841Z"
    },
    "papermill": {
     "duration": 0.051067,
     "end_time": "2024-01-10T16:47:19.839915",
     "exception": false,
     "start_time": "2024-01-10T16:47:19.788848",
     "status": "completed"
    },
    "tags": []
   },
   "outputs": [
    {
     "data": {
      "text/html": [
       "<div>\n",
       "<style scoped>\n",
       "    .dataframe tbody tr th:only-of-type {\n",
       "        vertical-align: middle;\n",
       "    }\n",
       "\n",
       "    .dataframe tbody tr th {\n",
       "        vertical-align: top;\n",
       "    }\n",
       "\n",
       "    .dataframe thead th {\n",
       "        text-align: right;\n",
       "    }\n",
       "</style>\n",
       "<table border=\"1\" class=\"dataframe\">\n",
       "  <thead>\n",
       "    <tr style=\"text-align: right;\">\n",
       "      <th></th>\n",
       "      <th>Health</th>\n",
       "      <th>Happiness_Score</th>\n",
       "    </tr>\n",
       "  </thead>\n",
       "  <tbody>\n",
       "    <tr>\n",
       "      <th>Health</th>\n",
       "      <td>1.000000</td>\n",
       "      <td>0.742268</td>\n",
       "    </tr>\n",
       "    <tr>\n",
       "      <th>Happiness_Score</th>\n",
       "      <td>0.742268</td>\n",
       "      <td>1.000000</td>\n",
       "    </tr>\n",
       "  </tbody>\n",
       "</table>\n",
       "</div>"
      ],
      "text/plain": [
       "                   Health  Happiness_Score\n",
       "Health           1.000000         0.742268\n",
       "Happiness_Score  0.742268         1.000000"
      ]
     },
     "execution_count": 36,
     "metadata": {},
     "output_type": "execute_result"
    }
   ],
   "source": [
    "# Examine the correlation between 'Health' and 'Happiness_Score':\n",
    "\n",
    "df[[\"Health\", \"Happiness_Score\"]].corr()"
   ]
  },
  {
   "cell_type": "code",
   "execution_count": 37,
   "id": "27c25806",
   "metadata": {
    "execution": {
     "iopub.execute_input": "2024-01-10T16:47:19.914614Z",
     "iopub.status.busy": "2024-01-10T16:47:19.913813Z",
     "iopub.status.idle": "2024-01-10T16:47:20.424502Z",
     "shell.execute_reply": "2024-01-10T16:47:20.423264Z"
    },
    "papermill": {
     "duration": 0.552528,
     "end_time": "2024-01-10T16:47:20.428070",
     "exception": false,
     "start_time": "2024-01-10T16:47:19.875542",
     "status": "completed"
    },
    "tags": []
   },
   "outputs": [
    {
     "data": {
      "text/plain": [
       "(0.0, 8.022799996089935)"
      ]
     },
     "execution_count": 37,
     "metadata": {},
     "output_type": "execute_result"
    },
    {
     "data": {
      "image/png": "[encoded data removed]",
      "text/plain": [
       "<Figure size 640x480 with 1 Axes>"
      ]
     },
     "metadata": {},
     "output_type": "display_data"
    }
   ],
   "source": [
    "# 'Freedom' as potential predictor variable of 'Happiness_Score':\n",
    "\n",
    "sns.regplot(x=\"Freedom\", y=\"Happiness_Score\", data=df)\n",
    "plt.ylim(0,)"
   ]
  },
  {
   "cell_type": "code",
   "execution_count": 38,
   "id": "cdb57ead",
   "metadata": {
    "execution": {
     "iopub.execute_input": "2024-01-10T16:47:20.505259Z",
     "iopub.status.busy": "2024-01-10T16:47:20.504282Z",
     "iopub.status.idle": "2024-01-10T16:47:20.517266Z",
     "shell.execute_reply": "2024-01-10T16:47:20.515949Z"
    },
    "papermill": {
     "duration": 0.05552,
     "end_time": "2024-01-10T16:47:20.520123",
     "exception": false,
     "start_time": "2024-01-10T16:47:20.464603",
     "status": "completed"
    },
    "tags": []
   },
   "outputs": [
    {
     "data": {
      "text/html": [
       "<div>\n",
       "<style scoped>\n",
       "    .dataframe tbody tr th:only-of-type {\n",
       "        vertical-align: middle;\n",
       "    }\n",
       "\n",
       "    .dataframe tbody tr th {\n",
       "        vertical-align: top;\n",
       "    }\n",
       "\n",
       "    .dataframe thead th {\n",
       "        text-align: right;\n",
       "    }\n",
       "</style>\n",
       "<table border=\"1\" class=\"dataframe\">\n",
       "  <thead>\n",
       "    <tr style=\"text-align: right;\">\n",
       "      <th></th>\n",
       "      <th>Freedom</th>\n",
       "      <th>Happiness_Score</th>\n",
       "    </tr>\n",
       "  </thead>\n",
       "  <tbody>\n",
       "    <tr>\n",
       "      <th>Freedom</th>\n",
       "      <td>1.000000</td>\n",
       "      <td>0.551291</td>\n",
       "    </tr>\n",
       "    <tr>\n",
       "      <th>Happiness_Score</th>\n",
       "      <td>0.551291</td>\n",
       "      <td>1.000000</td>\n",
       "    </tr>\n",
       "  </tbody>\n",
       "</table>\n",
       "</div>"
      ],
      "text/plain": [
       "                  Freedom  Happiness_Score\n",
       "Freedom          1.000000         0.551291\n",
       "Happiness_Score  0.551291         1.000000"
      ]
     },
     "execution_count": 38,
     "metadata": {},
     "output_type": "execute_result"
    }
   ],
   "source": [
    "# Examine the correlation between 'Freedom' and 'Happiness_Score':\n",
    "\n",
    "df[[\"Freedom\", \"Happiness_Score\"]].corr()"
   ]
  },
  {
   "cell_type": "code",
   "execution_count": 39,
   "id": "c552f02f",
   "metadata": {
    "execution": {
     "iopub.execute_input": "2024-01-10T16:47:20.596953Z",
     "iopub.status.busy": "2024-01-10T16:47:20.596280Z",
     "iopub.status.idle": "2024-01-10T16:47:21.087300Z",
     "shell.execute_reply": "2024-01-10T16:47:21.086409Z"
    },
    "papermill": {
     "duration": 0.532507,
     "end_time": "2024-01-10T16:47:21.090167",
     "exception": false,
     "start_time": "2024-01-10T16:47:20.557660",
     "status": "completed"
    },
    "tags": []
   },
   "outputs": [
    {
     "data": {
      "text/plain": [
       "(0.0, 8.022799996089935)"
      ]
     },
     "execution_count": 39,
     "metadata": {},
     "output_type": "execute_result"
    },
    {
     "data": {
      "image/png": "[encoded data removed]",
      "text/plain": [
       "<Figure size 640x480 with 1 Axes>"
      ]
     },
     "metadata": {},
     "output_type": "display_data"
    }
   ],
   "source": [
    "# 'Corruption_perception' as potential predictor variable of 'Happiness_Score':\n",
    "\n",
    "sns.regplot(x=\"Corruption_perception\", y=\"Happiness_Score\", data=df)\n",
    "plt.ylim(0,)"
   ]
  },
  {
   "cell_type": "code",
   "execution_count": 40,
   "id": "85fa0e4f",
   "metadata": {
    "execution": {
     "iopub.execute_input": "2024-01-10T16:47:21.171757Z",
     "iopub.status.busy": "2024-01-10T16:47:21.170961Z",
     "iopub.status.idle": "2024-01-10T16:47:21.182471Z",
     "shell.execute_reply": "2024-01-10T16:47:21.181569Z"
    },
    "papermill": {
     "duration": 0.055776,
     "end_time": "2024-01-10T16:47:21.184745",
     "exception": false,
     "start_time": "2024-01-10T16:47:21.128969",
     "status": "completed"
    },
    "tags": []
   },
   "outputs": [
    {
     "data": {
      "text/html": [
       "<div>\n",
       "<style scoped>\n",
       "    .dataframe tbody tr th:only-of-type {\n",
       "        vertical-align: middle;\n",
       "    }\n",
       "\n",
       "    .dataframe tbody tr th {\n",
       "        vertical-align: top;\n",
       "    }\n",
       "\n",
       "    .dataframe thead th {\n",
       "        text-align: right;\n",
       "    }\n",
       "</style>\n",
       "<table border=\"1\" class=\"dataframe\">\n",
       "  <thead>\n",
       "    <tr style=\"text-align: right;\">\n",
       "      <th></th>\n",
       "      <th>Corruption_perception</th>\n",
       "      <th>Happiness_Score</th>\n",
       "    </tr>\n",
       "  </thead>\n",
       "  <tbody>\n",
       "    <tr>\n",
       "      <th>Corruption_perception</th>\n",
       "      <td>1.000000</td>\n",
       "      <td>0.398992</td>\n",
       "    </tr>\n",
       "    <tr>\n",
       "      <th>Happiness_Score</th>\n",
       "      <td>0.398992</td>\n",
       "      <td>1.000000</td>\n",
       "    </tr>\n",
       "  </tbody>\n",
       "</table>\n",
       "</div>"
      ],
      "text/plain": [
       "                       Corruption_perception  Happiness_Score\n",
       "Corruption_perception               1.000000         0.398992\n",
       "Happiness_Score                     0.398992         1.000000"
      ]
     },
     "execution_count": 40,
     "metadata": {},
     "output_type": "execute_result"
    }
   ],
   "source": [
    "# Examine the correlation between 'Corruption_perception' and 'Happiness_Score':\n",
    "\n",
    "df[[\"Corruption_perception\", \"Happiness_Score\"]].corr()"
   ]
  },
  {
   "cell_type": "code",
   "execution_count": 41,
   "id": "70f5ceef",
   "metadata": {
    "execution": {
     "iopub.execute_input": "2024-01-10T16:47:21.264173Z",
     "iopub.status.busy": "2024-01-10T16:47:21.263754Z",
     "iopub.status.idle": "2024-01-10T16:47:21.753773Z",
     "shell.execute_reply": "2024-01-10T16:47:21.752845Z"
    },
    "papermill": {
     "duration": 0.532789,
     "end_time": "2024-01-10T16:47:21.756208",
     "exception": false,
     "start_time": "2024-01-10T16:47:21.223419",
     "status": "completed"
    },
    "tags": []
   },
   "outputs": [
    {
     "data": {
      "text/plain": [
       "(0.0, 8.022799996089935)"
      ]
     },
     "execution_count": 41,
     "metadata": {},
     "output_type": "execute_result"
    },
    {
     "data": {
      "image/png": "[encoded data removed]",
      "text/plain": [
       "<Figure size 640x480 with 1 Axes>"
      ]
     },
     "metadata": {},
     "output_type": "display_data"
    }
   ],
   "source": [
    "# 'Generosity' as potential predictor variable of 'Happiness_Score':\n",
    "\n",
    "sns.regplot(x=\"Generosity\", y=\"Happiness_Score\", data=df)\n",
    "plt.ylim(0,)"
   ]
  },
  {
   "cell_type": "code",
   "execution_count": 42,
   "id": "6376ef57",
   "metadata": {
    "execution": {
     "iopub.execute_input": "2024-01-10T16:47:21.841108Z",
     "iopub.status.busy": "2024-01-10T16:47:21.840399Z",
     "iopub.status.idle": "2024-01-10T16:47:21.852234Z",
     "shell.execute_reply": "2024-01-10T16:47:21.851032Z"
    },
    "papermill": {
     "duration": 0.057433,
     "end_time": "2024-01-10T16:47:21.854998",
     "exception": false,
     "start_time": "2024-01-10T16:47:21.797565",
     "status": "completed"
    },
    "tags": []
   },
   "outputs": [
    {
     "data": {
      "text/html": [
       "<div>\n",
       "<style scoped>\n",
       "    .dataframe tbody tr th:only-of-type {\n",
       "        vertical-align: middle;\n",
       "    }\n",
       "\n",
       "    .dataframe tbody tr th {\n",
       "        vertical-align: top;\n",
       "    }\n",
       "\n",
       "    .dataframe thead th {\n",
       "        text-align: right;\n",
       "    }\n",
       "</style>\n",
       "<table border=\"1\" class=\"dataframe\">\n",
       "  <thead>\n",
       "    <tr style=\"text-align: right;\">\n",
       "      <th></th>\n",
       "      <th>Generosity</th>\n",
       "      <th>Happiness_Score</th>\n",
       "    </tr>\n",
       "  </thead>\n",
       "  <tbody>\n",
       "    <tr>\n",
       "      <th>Generosity</th>\n",
       "      <td>1.000000</td>\n",
       "      <td>0.138049</td>\n",
       "    </tr>\n",
       "    <tr>\n",
       "      <th>Happiness_Score</th>\n",
       "      <td>0.138049</td>\n",
       "      <td>1.000000</td>\n",
       "    </tr>\n",
       "  </tbody>\n",
       "</table>\n",
       "</div>"
      ],
      "text/plain": [
       "                 Generosity  Happiness_Score\n",
       "Generosity         1.000000         0.138049\n",
       "Happiness_Score    0.138049         1.000000"
      ]
     },
     "execution_count": 42,
     "metadata": {},
     "output_type": "execute_result"
    }
   ],
   "source": [
    "# Examine the correlation between 'Generosity' and 'Happiness_Score':\n",
    "\n",
    "df[[\"Generosity\", \"Happiness_Score\"]].corr()"
   ]
  },
  {
   "cell_type": "markdown",
   "id": "440f91c0",
   "metadata": {
    "papermill": {
     "duration": 0.039862,
     "end_time": "2024-01-10T16:47:21.934750",
     "exception": false,
     "start_time": "2024-01-10T16:47:21.894888",
     "status": "completed"
    },
    "tags": []
   },
   "source": [
    "#### Conclusion:\n",
    "As we can see 'GDP_per_capita' variable may be a pretty good predictor of 'Happiness_Score', between these variables there is a direct positive correlation, it's approximetaly 0.78. Variable 'Health' also can be a good predictor of 'Happiness_Score', correlation is 0.74.\n",
    "Other predictor variables have weak linear relationship with the dependent variable 'Happiness_Score'."
   ]
  },
  {
   "cell_type": "markdown",
   "id": "b096b1c6",
   "metadata": {
    "papermill": {
     "duration": 0.039677,
     "end_time": "2024-01-10T16:47:22.014207",
     "exception": false,
     "start_time": "2024-01-10T16:47:21.974530",
     "status": "completed"
    },
    "tags": []
   },
   "source": [
    "## Descriptive Statistical Analysis"
   ]
  },
  {
   "cell_type": "markdown",
   "id": "07a5bffe",
   "metadata": {
    "papermill": {
     "duration": 0.039403,
     "end_time": "2024-01-10T16:47:22.093500",
     "exception": false,
     "start_time": "2024-01-10T16:47:22.054097",
     "status": "completed"
    },
    "tags": []
   },
   "source": [
    "#### Happiness Score statistics per Region"
   ]
  },
  {
   "cell_type": "code",
   "execution_count": 43,
   "id": "5b8b2559",
   "metadata": {
    "execution": {
     "iopub.execute_input": "2024-01-10T16:47:22.176020Z",
     "iopub.status.busy": "2024-01-10T16:47:22.175554Z",
     "iopub.status.idle": "2024-01-10T16:47:22.213966Z",
     "shell.execute_reply": "2024-01-10T16:47:22.213144Z"
    },
    "papermill": {
     "duration": 0.082992,
     "end_time": "2024-01-10T16:47:22.216456",
     "exception": false,
     "start_time": "2024-01-10T16:47:22.133464",
     "status": "completed"
    },
    "tags": []
   },
   "outputs": [
    {
     "data": {
      "text/html": [
       "<div>\n",
       "<style scoped>\n",
       "    .dataframe tbody tr th:only-of-type {\n",
       "        vertical-align: middle;\n",
       "    }\n",
       "\n",
       "    .dataframe tbody tr th {\n",
       "        vertical-align: top;\n",
       "    }\n",
       "\n",
       "    .dataframe thead th {\n",
       "        text-align: right;\n",
       "    }\n",
       "</style>\n",
       "<table border=\"1\" class=\"dataframe\">\n",
       "  <thead>\n",
       "    <tr style=\"text-align: right;\">\n",
       "      <th></th>\n",
       "      <th></th>\n",
       "      <th>max</th>\n",
       "      <th>min</th>\n",
       "      <th>mean</th>\n",
       "      <th>size</th>\n",
       "    </tr>\n",
       "    <tr>\n",
       "      <th>Year</th>\n",
       "      <th>Region</th>\n",
       "      <th></th>\n",
       "      <th></th>\n",
       "      <th></th>\n",
       "      <th></th>\n",
       "    </tr>\n",
       "  </thead>\n",
       "  <tbody>\n",
       "    <tr>\n",
       "      <th rowspan=\"10\" valign=\"top\">2015</th>\n",
       "      <th>Australia and New Zealand</th>\n",
       "      <td>7.286</td>\n",
       "      <td>7.284</td>\n",
       "      <td>7.285000</td>\n",
       "      <td>2</td>\n",
       "    </tr>\n",
       "    <tr>\n",
       "      <th>Central and Eastern Europe</th>\n",
       "      <td>6.505</td>\n",
       "      <td>4.218</td>\n",
       "      <td>5.332931</td>\n",
       "      <td>29</td>\n",
       "    </tr>\n",
       "    <tr>\n",
       "      <th>Eastern Asia</th>\n",
       "      <td>6.298</td>\n",
       "      <td>4.874</td>\n",
       "      <td>5.626167</td>\n",
       "      <td>6</td>\n",
       "    </tr>\n",
       "    <tr>\n",
       "      <th>Latin America and Caribbean</th>\n",
       "      <td>7.226</td>\n",
       "      <td>4.518</td>\n",
       "      <td>6.144682</td>\n",
       "      <td>22</td>\n",
       "    </tr>\n",
       "    <tr>\n",
       "      <th>Middle East and Northern Africa</th>\n",
       "      <td>7.278</td>\n",
       "      <td>3.006</td>\n",
       "      <td>5.406900</td>\n",
       "      <td>20</td>\n",
       "    </tr>\n",
       "    <tr>\n",
       "      <th>North America</th>\n",
       "      <td>7.427</td>\n",
       "      <td>7.119</td>\n",
       "      <td>7.273000</td>\n",
       "      <td>2</td>\n",
       "    </tr>\n",
       "    <tr>\n",
       "      <th>Southeastern Asia</th>\n",
       "      <td>6.798</td>\n",
       "      <td>3.819</td>\n",
       "      <td>5.317444</td>\n",
       "      <td>9</td>\n",
       "    </tr>\n",
       "    <tr>\n",
       "      <th>Southern Asia</th>\n",
       "      <td>5.253</td>\n",
       "      <td>3.575</td>\n",
       "      <td>4.580857</td>\n",
       "      <td>7</td>\n",
       "    </tr>\n",
       "    <tr>\n",
       "      <th>Sub-Saharan Africa</th>\n",
       "      <td>5.477</td>\n",
       "      <td>2.839</td>\n",
       "      <td>4.202800</td>\n",
       "      <td>40</td>\n",
       "    </tr>\n",
       "    <tr>\n",
       "      <th>Western Europe</th>\n",
       "      <td>7.587</td>\n",
       "      <td>4.857</td>\n",
       "      <td>6.689619</td>\n",
       "      <td>21</td>\n",
       "    </tr>\n",
       "    <tr>\n",
       "      <th rowspan=\"10\" valign=\"top\">2016</th>\n",
       "      <th>Australia and New Zealand</th>\n",
       "      <td>7.334</td>\n",
       "      <td>7.313</td>\n",
       "      <td>7.323500</td>\n",
       "      <td>2</td>\n",
       "    </tr>\n",
       "    <tr>\n",
       "      <th>Central and Eastern Europe</th>\n",
       "      <td>6.596</td>\n",
       "      <td>4.217</td>\n",
       "      <td>5.370690</td>\n",
       "      <td>29</td>\n",
       "    </tr>\n",
       "    <tr>\n",
       "      <th>Eastern Asia</th>\n",
       "      <td>6.379</td>\n",
       "      <td>4.907</td>\n",
       "      <td>5.624167</td>\n",
       "      <td>6</td>\n",
       "    </tr>\n",
       "    <tr>\n",
       "      <th>Latin America and Caribbean</th>\n",
       "      <td>7.087</td>\n",
       "      <td>4.028</td>\n",
       "      <td>6.101750</td>\n",
       "      <td>24</td>\n",
       "    </tr>\n",
       "    <tr>\n",
       "      <th>Middle East and Northern Africa</th>\n",
       "      <td>7.267</td>\n",
       "      <td>3.069</td>\n",
       "      <td>5.386053</td>\n",
       "      <td>19</td>\n",
       "    </tr>\n",
       "    <tr>\n",
       "      <th>North America</th>\n",
       "      <td>7.404</td>\n",
       "      <td>7.104</td>\n",
       "      <td>7.254000</td>\n",
       "      <td>2</td>\n",
       "    </tr>\n",
       "    <tr>\n",
       "      <th>Southeastern Asia</th>\n",
       "      <td>6.739</td>\n",
       "      <td>3.907</td>\n",
       "      <td>5.338889</td>\n",
       "      <td>9</td>\n",
       "    </tr>\n",
       "    <tr>\n",
       "      <th>Southern Asia</th>\n",
       "      <td>5.196</td>\n",
       "      <td>3.360</td>\n",
       "      <td>4.563286</td>\n",
       "      <td>7</td>\n",
       "    </tr>\n",
       "    <tr>\n",
       "      <th>Sub-Saharan Africa</th>\n",
       "      <td>5.648</td>\n",
       "      <td>2.905</td>\n",
       "      <td>4.136421</td>\n",
       "      <td>38</td>\n",
       "    </tr>\n",
       "    <tr>\n",
       "      <th>Western Europe</th>\n",
       "      <td>7.526</td>\n",
       "      <td>5.033</td>\n",
       "      <td>6.685667</td>\n",
       "      <td>21</td>\n",
       "    </tr>\n",
       "    <tr>\n",
       "      <th rowspan=\"10\" valign=\"top\">2017</th>\n",
       "      <th>Australia and New Zealand</th>\n",
       "      <td>7.314</td>\n",
       "      <td>7.284</td>\n",
       "      <td>7.299000</td>\n",
       "      <td>2</td>\n",
       "    </tr>\n",
       "    <tr>\n",
       "      <th>Central and Eastern Europe</th>\n",
       "      <td>6.609</td>\n",
       "      <td>4.096</td>\n",
       "      <td>5.409931</td>\n",
       "      <td>29</td>\n",
       "    </tr>\n",
       "    <tr>\n",
       "      <th>Eastern Asia</th>\n",
       "      <td>6.422</td>\n",
       "      <td>4.955</td>\n",
       "      <td>5.646667</td>\n",
       "      <td>6</td>\n",
       "    </tr>\n",
       "    <tr>\n",
       "      <th>Latin America and Caribbean</th>\n",
       "      <td>7.079</td>\n",
       "      <td>3.603</td>\n",
       "      <td>5.957818</td>\n",
       "      <td>22</td>\n",
       "    </tr>\n",
       "    <tr>\n",
       "      <th>Middle East and Northern Africa</th>\n",
       "      <td>7.213</td>\n",
       "      <td>3.462</td>\n",
       "      <td>5.369684</td>\n",
       "      <td>19</td>\n",
       "    </tr>\n",
       "    <tr>\n",
       "      <th>North America</th>\n",
       "      <td>7.316</td>\n",
       "      <td>6.993</td>\n",
       "      <td>7.154500</td>\n",
       "      <td>2</td>\n",
       "    </tr>\n",
       "    <tr>\n",
       "      <th>Southeastern Asia</th>\n",
       "      <td>6.572</td>\n",
       "      <td>4.168</td>\n",
       "      <td>5.444875</td>\n",
       "      <td>8</td>\n",
       "    </tr>\n",
       "    <tr>\n",
       "      <th>Southern Asia</th>\n",
       "      <td>5.269</td>\n",
       "      <td>3.794</td>\n",
       "      <td>4.628429</td>\n",
       "      <td>7</td>\n",
       "    </tr>\n",
       "    <tr>\n",
       "      <th>Sub-Saharan Africa</th>\n",
       "      <td>5.629</td>\n",
       "      <td>2.693</td>\n",
       "      <td>4.111949</td>\n",
       "      <td>39</td>\n",
       "    </tr>\n",
       "    <tr>\n",
       "      <th>Western Europe</th>\n",
       "      <td>7.537</td>\n",
       "      <td>5.195</td>\n",
       "      <td>6.703714</td>\n",
       "      <td>21</td>\n",
       "    </tr>\n",
       "    <tr>\n",
       "      <th rowspan=\"10\" valign=\"top\">2018</th>\n",
       "      <th>Australia and New Zealand</th>\n",
       "      <td>7.324</td>\n",
       "      <td>7.272</td>\n",
       "      <td>7.298000</td>\n",
       "      <td>2</td>\n",
       "    </tr>\n",
       "    <tr>\n",
       "      <th>Central and Eastern Europe</th>\n",
       "      <td>6.711</td>\n",
       "      <td>4.103</td>\n",
       "      <td>5.463966</td>\n",
       "      <td>29</td>\n",
       "    </tr>\n",
       "    <tr>\n",
       "      <th>Eastern Asia</th>\n",
       "      <td>6.441</td>\n",
       "      <td>5.125</td>\n",
       "      <td>5.672000</td>\n",
       "      <td>6</td>\n",
       "    </tr>\n",
       "    <tr>\n",
       "      <th>Latin America and Caribbean</th>\n",
       "      <td>7.072</td>\n",
       "      <td>3.582</td>\n",
       "      <td>5.950136</td>\n",
       "      <td>22</td>\n",
       "    </tr>\n",
       "    <tr>\n",
       "      <th>Middle East and Northern Africa</th>\n",
       "      <td>6.814</td>\n",
       "      <td>3.355</td>\n",
       "      <td>5.282737</td>\n",
       "      <td>19</td>\n",
       "    </tr>\n",
       "    <tr>\n",
       "      <th>North America</th>\n",
       "      <td>7.328</td>\n",
       "      <td>6.886</td>\n",
       "      <td>7.107000</td>\n",
       "      <td>2</td>\n",
       "    </tr>\n",
       "    <tr>\n",
       "      <th>Southeastern Asia</th>\n",
       "      <td>6.343</td>\n",
       "      <td>4.308</td>\n",
       "      <td>5.313444</td>\n",
       "      <td>9</td>\n",
       "    </tr>\n",
       "    <tr>\n",
       "      <th>Southern Asia</th>\n",
       "      <td>5.472</td>\n",
       "      <td>3.632</td>\n",
       "      <td>4.603857</td>\n",
       "      <td>7</td>\n",
       "    </tr>\n",
       "    <tr>\n",
       "      <th>Sub-Saharan Africa</th>\n",
       "      <td>5.891</td>\n",
       "      <td>2.905</td>\n",
       "      <td>4.195026</td>\n",
       "      <td>39</td>\n",
       "    </tr>\n",
       "    <tr>\n",
       "      <th>Western Europe</th>\n",
       "      <td>7.632</td>\n",
       "      <td>5.358</td>\n",
       "      <td>6.781762</td>\n",
       "      <td>21</td>\n",
       "    </tr>\n",
       "    <tr>\n",
       "      <th rowspan=\"10\" valign=\"top\">2019</th>\n",
       "      <th>Australia and New Zealand</th>\n",
       "      <td>7.307</td>\n",
       "      <td>7.228</td>\n",
       "      <td>7.267500</td>\n",
       "      <td>2</td>\n",
       "    </tr>\n",
       "    <tr>\n",
       "      <th>Central and Eastern Europe</th>\n",
       "      <td>6.852</td>\n",
       "      <td>4.332</td>\n",
       "      <td>5.561517</td>\n",
       "      <td>29</td>\n",
       "    </tr>\n",
       "    <tr>\n",
       "      <th>Eastern Asia</th>\n",
       "      <td>6.446</td>\n",
       "      <td>5.191</td>\n",
       "      <td>5.688833</td>\n",
       "      <td>6</td>\n",
       "    </tr>\n",
       "    <tr>\n",
       "      <th>Latin America and Caribbean</th>\n",
       "      <td>7.167</td>\n",
       "      <td>3.597</td>\n",
       "      <td>5.954429</td>\n",
       "      <td>21</td>\n",
       "    </tr>\n",
       "    <tr>\n",
       "      <th>Middle East and Northern Africa</th>\n",
       "      <td>7.139</td>\n",
       "      <td>3.380</td>\n",
       "      <td>5.237000</td>\n",
       "      <td>19</td>\n",
       "    </tr>\n",
       "    <tr>\n",
       "      <th>North America</th>\n",
       "      <td>7.278</td>\n",
       "      <td>6.892</td>\n",
       "      <td>7.085000</td>\n",
       "      <td>2</td>\n",
       "    </tr>\n",
       "    <tr>\n",
       "      <th>Southeastern Asia</th>\n",
       "      <td>6.262</td>\n",
       "      <td>4.360</td>\n",
       "      <td>5.273667</td>\n",
       "      <td>9</td>\n",
       "    </tr>\n",
       "    <tr>\n",
       "      <th>Southern Asia</th>\n",
       "      <td>5.653</td>\n",
       "      <td>3.203</td>\n",
       "      <td>4.526857</td>\n",
       "      <td>7</td>\n",
       "    </tr>\n",
       "    <tr>\n",
       "      <th>Sub-Saharan Africa</th>\n",
       "      <td>5.888</td>\n",
       "      <td>2.853</td>\n",
       "      <td>4.294513</td>\n",
       "      <td>39</td>\n",
       "    </tr>\n",
       "    <tr>\n",
       "      <th>Western Europe</th>\n",
       "      <td>7.769</td>\n",
       "      <td>5.287</td>\n",
       "      <td>6.842190</td>\n",
       "      <td>21</td>\n",
       "    </tr>\n",
       "  </tbody>\n",
       "</table>\n",
       "</div>"
      ],
      "text/plain": [
       "                                        max    min      mean  size\n",
       "Year Region                                                       \n",
       "2015 Australia and New Zealand        7.286  7.284  7.285000     2\n",
       "     Central and Eastern Europe       6.505  4.218  5.332931    29\n",
       "     Eastern Asia                     6.298  4.874  5.626167     6\n",
       "     Latin America and Caribbean      7.226  4.518  6.144682    22\n",
       "     Middle East and Northern Africa  7.278  3.006  5.406900    20\n",
       "     North America                    7.427  7.119  7.273000     2\n",
       "     Southeastern Asia                6.798  3.819  5.317444     9\n",
       "     Southern Asia                    5.253  3.575  4.580857     7\n",
       "     Sub-Saharan Africa               5.477  2.839  4.202800    40\n",
       "     Western Europe                   7.587  4.857  6.689619    21\n",
       "2016 Australia and New Zealand        7.334  7.313  7.323500     2\n",
       "     Central and Eastern Europe       6.596  4.217  5.370690    29\n",
       "     Eastern Asia                     6.379  4.907  5.624167     6\n",
       "     Latin America and Caribbean      7.087  4.028  6.101750    24\n",
       "     Middle East and Northern Africa  7.267  3.069  5.386053    19\n",
       "     North America                    7.404  7.104  7.254000     2\n",
       "     Southeastern Asia                6.739  3.907  5.338889     9\n",
       "     Southern Asia                    5.196  3.360  4.563286     7\n",
       "     Sub-Saharan Africa               5.648  2.905  4.136421    38\n",
       "     Western Europe                   7.526  5.033  6.685667    21\n",
       "2017 Australia and New Zealand        7.314  7.284  7.299000     2\n",
       "     Central and Eastern Europe       6.609  4.096  5.409931    29\n",
       "     Eastern Asia                     6.422  4.955  5.646667     6\n",
       "     Latin America and Caribbean      7.079  3.603  5.957818    22\n",
       "     Middle East and Northern Africa  7.213  3.462  5.369684    19\n",
       "     North America                    7.316  6.993  7.154500     2\n",
       "     Southeastern Asia                6.572  4.168  5.444875     8\n",
       "     Southern Asia                    5.269  3.794  4.628429     7\n",
       "     Sub-Saharan Africa               5.629  2.693  4.111949    39\n",
       "     Western Europe                   7.537  5.195  6.703714    21\n",
       "2018 Australia and New Zealand        7.324  7.272  7.298000     2\n",
       "     Central and Eastern Europe       6.711  4.103  5.463966    29\n",
       "     Eastern Asia                     6.441  5.125  5.672000     6\n",
       "     Latin America and Caribbean      7.072  3.582  5.950136    22\n",
       "     Middle East and Northern Africa  6.814  3.355  5.282737    19\n",
       "     North America                    7.328  6.886  7.107000     2\n",
       "     Southeastern Asia                6.343  4.308  5.313444     9\n",
       "     Southern Asia                    5.472  3.632  4.603857     7\n",
       "     Sub-Saharan Africa               5.891  2.905  4.195026    39\n",
       "     Western Europe                   7.632  5.358  6.781762    21\n",
       "2019 Australia and New Zealand        7.307  7.228  7.267500     2\n",
       "     Central and Eastern Europe       6.852  4.332  5.561517    29\n",
       "     Eastern Asia                     6.446  5.191  5.688833     6\n",
       "     Latin America and Caribbean      7.167  3.597  5.954429    21\n",
       "     Middle East and Northern Africa  7.139  3.380  5.237000    19\n",
       "     North America                    7.278  6.892  7.085000     2\n",
       "     Southeastern Asia                6.262  4.360  5.273667     9\n",
       "     Southern Asia                    5.653  3.203  4.526857     7\n",
       "     Sub-Saharan Africa               5.888  2.853  4.294513    39\n",
       "     Western Europe                   7.769  5.287  6.842190    21"
      ]
     },
     "execution_count": 43,
     "metadata": {},
     "output_type": "execute_result"
    }
   ],
   "source": [
    "# Get some statistics for grouped data over the years:\n",
    "\n",
    "df.groupby([\"Year\",\"Region\"])[\"Happiness_Score\"].agg([\"max\",\"min\",\"mean\",\"size\"])"
   ]
  },
  {
   "cell_type": "code",
   "execution_count": 44,
   "id": "ee8194a6",
   "metadata": {
    "execution": {
     "iopub.execute_input": "2024-01-10T16:47:22.302242Z",
     "iopub.status.busy": "2024-01-10T16:47:22.301536Z",
     "iopub.status.idle": "2024-01-10T16:47:22.315643Z",
     "shell.execute_reply": "2024-01-10T16:47:22.314395Z"
    },
    "papermill": {
     "duration": 0.059857,
     "end_time": "2024-01-10T16:47:22.318293",
     "exception": false,
     "start_time": "2024-01-10T16:47:22.258436",
     "status": "completed"
    },
    "tags": []
   },
   "outputs": [
    {
     "data": {
      "text/html": [
       "<div>\n",
       "<style scoped>\n",
       "    .dataframe tbody tr th:only-of-type {\n",
       "        vertical-align: middle;\n",
       "    }\n",
       "\n",
       "    .dataframe tbody tr th {\n",
       "        vertical-align: top;\n",
       "    }\n",
       "\n",
       "    .dataframe thead th {\n",
       "        text-align: right;\n",
       "    }\n",
       "</style>\n",
       "<table border=\"1\" class=\"dataframe\">\n",
       "  <thead>\n",
       "    <tr style=\"text-align: right;\">\n",
       "      <th></th>\n",
       "      <th>mean</th>\n",
       "      <th>size</th>\n",
       "    </tr>\n",
       "    <tr>\n",
       "      <th>Region</th>\n",
       "      <th></th>\n",
       "      <th></th>\n",
       "    </tr>\n",
       "  </thead>\n",
       "  <tbody>\n",
       "    <tr>\n",
       "      <th>Australia and New Zealand</th>\n",
       "      <td>7.267500</td>\n",
       "      <td>2</td>\n",
       "    </tr>\n",
       "    <tr>\n",
       "      <th>Central and Eastern Europe</th>\n",
       "      <td>5.561517</td>\n",
       "      <td>29</td>\n",
       "    </tr>\n",
       "    <tr>\n",
       "      <th>Eastern Asia</th>\n",
       "      <td>5.688833</td>\n",
       "      <td>6</td>\n",
       "    </tr>\n",
       "    <tr>\n",
       "      <th>Latin America and Caribbean</th>\n",
       "      <td>5.954429</td>\n",
       "      <td>21</td>\n",
       "    </tr>\n",
       "    <tr>\n",
       "      <th>Middle East and Northern Africa</th>\n",
       "      <td>5.237000</td>\n",
       "      <td>19</td>\n",
       "    </tr>\n",
       "    <tr>\n",
       "      <th>North America</th>\n",
       "      <td>7.085000</td>\n",
       "      <td>2</td>\n",
       "    </tr>\n",
       "    <tr>\n",
       "      <th>Southeastern Asia</th>\n",
       "      <td>5.273667</td>\n",
       "      <td>9</td>\n",
       "    </tr>\n",
       "    <tr>\n",
       "      <th>Southern Asia</th>\n",
       "      <td>4.526857</td>\n",
       "      <td>7</td>\n",
       "    </tr>\n",
       "    <tr>\n",
       "      <th>Sub-Saharan Africa</th>\n",
       "      <td>4.294513</td>\n",
       "      <td>39</td>\n",
       "    </tr>\n",
       "    <tr>\n",
       "      <th>Western Europe</th>\n",
       "      <td>6.842190</td>\n",
       "      <td>21</td>\n",
       "    </tr>\n",
       "  </tbody>\n",
       "</table>\n",
       "</div>"
      ],
      "text/plain": [
       "                                     mean  size\n",
       "Region                                         \n",
       "Australia and New Zealand        7.267500     2\n",
       "Central and Eastern Europe       5.561517    29\n",
       "Eastern Asia                     5.688833     6\n",
       "Latin America and Caribbean      5.954429    21\n",
       "Middle East and Northern Africa  5.237000    19\n",
       "North America                    7.085000     2\n",
       "Southeastern Asia                5.273667     9\n",
       "Southern Asia                    4.526857     7\n",
       "Sub-Saharan Africa               4.294513    39\n",
       "Western Europe                   6.842190    21"
      ]
     },
     "execution_count": 44,
     "metadata": {},
     "output_type": "execute_result"
    }
   ],
   "source": [
    "# Let's get only 2019 data\n",
    "\n",
    "df[df['Year']==\"2019\"].groupby([\"Region\"])[\"Happiness_Score\"].agg([\"mean\",\"size\"])"
   ]
  },
  {
   "cell_type": "code",
   "execution_count": 45,
   "id": "6c9c9f2b",
   "metadata": {
    "execution": {
     "iopub.execute_input": "2024-01-10T16:47:22.404489Z",
     "iopub.status.busy": "2024-01-10T16:47:22.404027Z",
     "iopub.status.idle": "2024-01-10T16:47:22.412888Z",
     "shell.execute_reply": "2024-01-10T16:47:22.411649Z"
    },
    "papermill": {
     "duration": 0.056014,
     "end_time": "2024-01-10T16:47:22.415656",
     "exception": false,
     "start_time": "2024-01-10T16:47:22.359642",
     "status": "completed"
    },
    "tags": []
   },
   "outputs": [],
   "source": [
    "# Define the dataframe 'Happiness_per_region' (we take the mean value for our indicators over the years so we only group by Region):\n",
    "\n",
    "happiness_per_region = pd.DataFrame(df.groupby([\"Region\"])[\"Happiness_Score\"].mean()).sort_values(by=[\"Happiness_Score\"], ascending=False)"
   ]
  },
  {
   "cell_type": "code",
   "execution_count": 46,
   "id": "a9a08f45",
   "metadata": {
    "execution": {
     "iopub.execute_input": "2024-01-10T16:47:22.501455Z",
     "iopub.status.busy": "2024-01-10T16:47:22.501027Z",
     "iopub.status.idle": "2024-01-10T16:47:22.512006Z",
     "shell.execute_reply": "2024-01-10T16:47:22.510799Z"
    },
    "papermill": {
     "duration": 0.057328,
     "end_time": "2024-01-10T16:47:22.514368",
     "exception": false,
     "start_time": "2024-01-10T16:47:22.457040",
     "status": "completed"
    },
    "tags": []
   },
   "outputs": [
    {
     "data": {
      "text/html": [
       "<div>\n",
       "<style scoped>\n",
       "    .dataframe tbody tr th:only-of-type {\n",
       "        vertical-align: middle;\n",
       "    }\n",
       "\n",
       "    .dataframe tbody tr th {\n",
       "        vertical-align: top;\n",
       "    }\n",
       "\n",
       "    .dataframe thead th {\n",
       "        text-align: right;\n",
       "    }\n",
       "</style>\n",
       "<table border=\"1\" class=\"dataframe\">\n",
       "  <thead>\n",
       "    <tr style=\"text-align: right;\">\n",
       "      <th></th>\n",
       "      <th>Happiness_Score</th>\n",
       "    </tr>\n",
       "    <tr>\n",
       "      <th>Region</th>\n",
       "      <th></th>\n",
       "    </tr>\n",
       "  </thead>\n",
       "  <tbody>\n",
       "    <tr>\n",
       "      <th>Australia and New Zealand</th>\n",
       "      <td>7.294600</td>\n",
       "    </tr>\n",
       "    <tr>\n",
       "      <th>North America</th>\n",
       "      <td>7.174700</td>\n",
       "    </tr>\n",
       "    <tr>\n",
       "      <th>Western Europe</th>\n",
       "      <td>6.740590</td>\n",
       "    </tr>\n",
       "    <tr>\n",
       "      <th>Latin America and Caribbean</th>\n",
       "      <td>6.023811</td>\n",
       "    </tr>\n",
       "    <tr>\n",
       "      <th>Eastern Asia</th>\n",
       "      <td>5.651567</td>\n",
       "    </tr>\n",
       "    <tr>\n",
       "      <th>Central and Eastern Europe</th>\n",
       "      <td>5.427807</td>\n",
       "    </tr>\n",
       "    <tr>\n",
       "      <th>Middle East and Northern Africa</th>\n",
       "      <td>5.337208</td>\n",
       "    </tr>\n",
       "    <tr>\n",
       "      <th>Southeastern Asia</th>\n",
       "      <td>5.335227</td>\n",
       "    </tr>\n",
       "    <tr>\n",
       "      <th>Southern Asia</th>\n",
       "      <td>4.580657</td>\n",
       "    </tr>\n",
       "    <tr>\n",
       "      <th>Sub-Saharan Africa</th>\n",
       "      <td>4.188482</td>\n",
       "    </tr>\n",
       "  </tbody>\n",
       "</table>\n",
       "</div>"
      ],
      "text/plain": [
       "                                 Happiness_Score\n",
       "Region                                          \n",
       "Australia and New Zealand               7.294600\n",
       "North America                           7.174700\n",
       "Western Europe                          6.740590\n",
       "Latin America and Caribbean             6.023811\n",
       "Eastern Asia                            5.651567\n",
       "Central and Eastern Europe              5.427807\n",
       "Middle East and Northern Africa         5.337208\n",
       "Southeastern Asia                       5.335227\n",
       "Southern Asia                           4.580657\n",
       "Sub-Saharan Africa                      4.188482"
      ]
     },
     "execution_count": 46,
     "metadata": {},
     "output_type": "execute_result"
    }
   ],
   "source": [
    "happiness_per_region"
   ]
  },
  {
   "cell_type": "markdown",
   "id": "74606198",
   "metadata": {
    "papermill": {
     "duration": 0.041335,
     "end_time": "2024-01-10T16:47:22.596867",
     "exception": false,
     "start_time": "2024-01-10T16:47:22.555532",
     "status": "completed"
    },
    "tags": []
   },
   "source": [
    "Let's see this data in a more visual way."
   ]
  },
  {
   "cell_type": "code",
   "execution_count": 47,
   "id": "408253bb",
   "metadata": {
    "execution": {
     "iopub.execute_input": "2024-01-10T16:47:22.685875Z",
     "iopub.status.busy": "2024-01-10T16:47:22.685391Z",
     "iopub.status.idle": "2024-01-10T16:47:23.217200Z",
     "shell.execute_reply": "2024-01-10T16:47:23.216021Z"
    },
    "papermill": {
     "duration": 0.581975,
     "end_time": "2024-01-10T16:47:23.219980",
     "exception": false,
     "start_time": "2024-01-10T16:47:22.638005",
     "status": "completed"
    },
    "tags": []
   },
   "outputs": [
    {
     "data": {
      "image/png": "[encoded data removed]",
      "text/plain": [
       "<Figure size 1000x600 with 1 Axes>"
      ]
     },
     "metadata": {},
     "output_type": "display_data"
    }
   ],
   "source": [
    "# Plot the average Happiness Score value for each region (from 2015 to 2019). \n",
    "\n",
    "# Set our barplot colors palette:    \n",
    "sns.set_palette(\"Set1\")\n",
    "\n",
    "# Set our graph size:               \n",
    "plt.figure(figsize=(10,6))\n",
    "\n",
    "# Plot our data\n",
    "ax = sns.barplot(data = happiness_per_region.reset_index(), x=\"Region\", y=\"Happiness_Score\")\n",
    "\n",
    "# Add labels vertical inclination to improve improve legibility\n",
    "plt.xticks(rotation=80)\n",
    "plt.title(\"Mean Happiness Score for region between 2015-2019\")\n",
    "plt.ylabel(\"Happiness Score\")\n",
    "\n",
    "# Add column values\n",
    "ax.set(xlabel=None)\n",
    "for i in ax.containers:\n",
    "    ax.bar_label(i,)"
   ]
  },
  {
   "cell_type": "markdown",
   "id": "33e1081c",
   "metadata": {
    "papermill": {
     "duration": 0.042642,
     "end_time": "2024-01-10T16:47:23.306361",
     "exception": false,
     "start_time": "2024-01-10T16:47:23.263719",
     "status": "completed"
    },
    "tags": []
   },
   "source": [
    "#### Happiness Score evolution over the Years (for each Region)"
   ]
  },
  {
   "cell_type": "markdown",
   "id": "f85d58bd",
   "metadata": {
    "papermill": {
     "duration": 0.042666,
     "end_time": "2024-01-10T16:47:23.392727",
     "exception": false,
     "start_time": "2024-01-10T16:47:23.350061",
     "status": "completed"
    },
    "tags": []
   },
   "source": [
    "Let's see the evalution of the Happiness Score over the years for each region."
   ]
  },
  {
   "cell_type": "code",
   "execution_count": 48,
   "id": "2e8e75e5",
   "metadata": {
    "execution": {
     "iopub.execute_input": "2024-01-10T16:47:23.482010Z",
     "iopub.status.busy": "2024-01-10T16:47:23.481547Z",
     "iopub.status.idle": "2024-01-10T16:47:23.497519Z",
     "shell.execute_reply": "2024-01-10T16:47:23.496625Z"
    },
    "papermill": {
     "duration": 0.062891,
     "end_time": "2024-01-10T16:47:23.500166",
     "exception": false,
     "start_time": "2024-01-10T16:47:23.437275",
     "status": "completed"
    },
    "tags": []
   },
   "outputs": [],
   "source": [
    "# Prepare data to have the evolution of the Happiness Score over years per region:\n",
    "\n",
    "df_hs_region_years = pd.DataFrame(df.groupby([\"Year\",\"Region\"])[\"Happiness_Score\"].mean())\n",
    "df_hs_region_years= df_hs_region_years.reset_index().pivot(index = \"Region\", columns=\"Year\")\n",
    "\n",
    "df_hs_region_years = pd.DataFrame(df_hs_region_years.droplevel(0, axis=1))"
   ]
  },
  {
   "cell_type": "code",
   "execution_count": 49,
   "id": "f7264c3d",
   "metadata": {
    "execution": {
     "iopub.execute_input": "2024-01-10T16:47:23.588282Z",
     "iopub.status.busy": "2024-01-10T16:47:23.587853Z",
     "iopub.status.idle": "2024-01-10T16:47:23.603148Z",
     "shell.execute_reply": "2024-01-10T16:47:23.601954Z"
    },
    "papermill": {
     "duration": 0.062291,
     "end_time": "2024-01-10T16:47:23.605595",
     "exception": false,
     "start_time": "2024-01-10T16:47:23.543304",
     "status": "completed"
    },
    "tags": []
   },
   "outputs": [
    {
     "data": {
      "text/html": [
       "<div>\n",
       "<style scoped>\n",
       "    .dataframe tbody tr th:only-of-type {\n",
       "        vertical-align: middle;\n",
       "    }\n",
       "\n",
       "    .dataframe tbody tr th {\n",
       "        vertical-align: top;\n",
       "    }\n",
       "\n",
       "    .dataframe thead th {\n",
       "        text-align: right;\n",
       "    }\n",
       "</style>\n",
       "<table border=\"1\" class=\"dataframe\">\n",
       "  <thead>\n",
       "    <tr style=\"text-align: right;\">\n",
       "      <th>Year</th>\n",
       "      <th>2015</th>\n",
       "      <th>2016</th>\n",
       "      <th>2017</th>\n",
       "      <th>2018</th>\n",
       "      <th>2019</th>\n",
       "    </tr>\n",
       "    <tr>\n",
       "      <th>Region</th>\n",
       "      <th></th>\n",
       "      <th></th>\n",
       "      <th></th>\n",
       "      <th></th>\n",
       "      <th></th>\n",
       "    </tr>\n",
       "  </thead>\n",
       "  <tbody>\n",
       "    <tr>\n",
       "      <th>Australia and New Zealand</th>\n",
       "      <td>7.285000</td>\n",
       "      <td>7.323500</td>\n",
       "      <td>7.299000</td>\n",
       "      <td>7.298000</td>\n",
       "      <td>7.267500</td>\n",
       "    </tr>\n",
       "    <tr>\n",
       "      <th>Central and Eastern Europe</th>\n",
       "      <td>5.332931</td>\n",
       "      <td>5.370690</td>\n",
       "      <td>5.409931</td>\n",
       "      <td>5.463966</td>\n",
       "      <td>5.561517</td>\n",
       "    </tr>\n",
       "    <tr>\n",
       "      <th>Eastern Asia</th>\n",
       "      <td>5.626167</td>\n",
       "      <td>5.624167</td>\n",
       "      <td>5.646667</td>\n",
       "      <td>5.672000</td>\n",
       "      <td>5.688833</td>\n",
       "    </tr>\n",
       "    <tr>\n",
       "      <th>Latin America and Caribbean</th>\n",
       "      <td>6.144682</td>\n",
       "      <td>6.101750</td>\n",
       "      <td>5.957818</td>\n",
       "      <td>5.950136</td>\n",
       "      <td>5.954429</td>\n",
       "    </tr>\n",
       "    <tr>\n",
       "      <th>Middle East and Northern Africa</th>\n",
       "      <td>5.406900</td>\n",
       "      <td>5.386053</td>\n",
       "      <td>5.369684</td>\n",
       "      <td>5.282737</td>\n",
       "      <td>5.237000</td>\n",
       "    </tr>\n",
       "    <tr>\n",
       "      <th>North America</th>\n",
       "      <td>7.273000</td>\n",
       "      <td>7.254000</td>\n",
       "      <td>7.154500</td>\n",
       "      <td>7.107000</td>\n",
       "      <td>7.085000</td>\n",
       "    </tr>\n",
       "    <tr>\n",
       "      <th>Southeastern Asia</th>\n",
       "      <td>5.317444</td>\n",
       "      <td>5.338889</td>\n",
       "      <td>5.444875</td>\n",
       "      <td>5.313444</td>\n",
       "      <td>5.273667</td>\n",
       "    </tr>\n",
       "    <tr>\n",
       "      <th>Southern Asia</th>\n",
       "      <td>4.580857</td>\n",
       "      <td>4.563286</td>\n",
       "      <td>4.628429</td>\n",
       "      <td>4.603857</td>\n",
       "      <td>4.526857</td>\n",
       "    </tr>\n",
       "    <tr>\n",
       "      <th>Sub-Saharan Africa</th>\n",
       "      <td>4.202800</td>\n",
       "      <td>4.136421</td>\n",
       "      <td>4.111949</td>\n",
       "      <td>4.195026</td>\n",
       "      <td>4.294513</td>\n",
       "    </tr>\n",
       "    <tr>\n",
       "      <th>Western Europe</th>\n",
       "      <td>6.689619</td>\n",
       "      <td>6.685667</td>\n",
       "      <td>6.703714</td>\n",
       "      <td>6.781762</td>\n",
       "      <td>6.842190</td>\n",
       "    </tr>\n",
       "  </tbody>\n",
       "</table>\n",
       "</div>"
      ],
      "text/plain": [
       "Year                                 2015      2016      2017      2018  \\\n",
       "Region                                                                    \n",
       "Australia and New Zealand        7.285000  7.323500  7.299000  7.298000   \n",
       "Central and Eastern Europe       5.332931  5.370690  5.409931  5.463966   \n",
       "Eastern Asia                     5.626167  5.624167  5.646667  5.672000   \n",
       "Latin America and Caribbean      6.144682  6.101750  5.957818  5.950136   \n",
       "Middle East and Northern Africa  5.406900  5.386053  5.369684  5.282737   \n",
       "North America                    7.273000  7.254000  7.154500  7.107000   \n",
       "Southeastern Asia                5.317444  5.338889  5.444875  5.313444   \n",
       "Southern Asia                    4.580857  4.563286  4.628429  4.603857   \n",
       "Sub-Saharan Africa               4.202800  4.136421  4.111949  4.195026   \n",
       "Western Europe                   6.689619  6.685667  6.703714  6.781762   \n",
       "\n",
       "Year                                 2019  \n",
       "Region                                     \n",
       "Australia and New Zealand        7.267500  \n",
       "Central and Eastern Europe       5.561517  \n",
       "Eastern Asia                     5.688833  \n",
       "Latin America and Caribbean      5.954429  \n",
       "Middle East and Northern Africa  5.237000  \n",
       "North America                    7.085000  \n",
       "Southeastern Asia                5.273667  \n",
       "Southern Asia                    4.526857  \n",
       "Sub-Saharan Africa               4.294513  \n",
       "Western Europe                   6.842190  "
      ]
     },
     "execution_count": 49,
     "metadata": {},
     "output_type": "execute_result"
    }
   ],
   "source": [
    "# Observe the dataframe:\n",
    "\n",
    "df_hs_region_years"
   ]
  },
  {
   "cell_type": "code",
   "execution_count": 50,
   "id": "764d396e",
   "metadata": {
    "execution": {
     "iopub.execute_input": "2024-01-10T16:47:23.695384Z",
     "iopub.status.busy": "2024-01-10T16:47:23.694688Z",
     "iopub.status.idle": "2024-01-10T16:47:23.714993Z",
     "shell.execute_reply": "2024-01-10T16:47:23.713813Z"
    },
    "papermill": {
     "duration": 0.067597,
     "end_time": "2024-01-10T16:47:23.717174",
     "exception": false,
     "start_time": "2024-01-10T16:47:23.649577",
     "status": "completed"
    },
    "tags": []
   },
   "outputs": [
    {
     "data": {
      "text/html": [
       "<div>\n",
       "<style scoped>\n",
       "    .dataframe tbody tr th:only-of-type {\n",
       "        vertical-align: middle;\n",
       "    }\n",
       "\n",
       "    .dataframe tbody tr th {\n",
       "        vertical-align: top;\n",
       "    }\n",
       "\n",
       "    .dataframe thead th {\n",
       "        text-align: right;\n",
       "    }\n",
       "</style>\n",
       "<table border=\"1\" class=\"dataframe\">\n",
       "  <thead>\n",
       "    <tr style=\"text-align: right;\">\n",
       "      <th>Region</th>\n",
       "      <th>Australia and New Zealand</th>\n",
       "      <th>Central and Eastern Europe</th>\n",
       "      <th>Eastern Asia</th>\n",
       "      <th>Latin America and Caribbean</th>\n",
       "      <th>Middle East and Northern Africa</th>\n",
       "      <th>North America</th>\n",
       "      <th>Southeastern Asia</th>\n",
       "      <th>Southern Asia</th>\n",
       "      <th>Sub-Saharan Africa</th>\n",
       "      <th>Western Europe</th>\n",
       "    </tr>\n",
       "    <tr>\n",
       "      <th>Year</th>\n",
       "      <th></th>\n",
       "      <th></th>\n",
       "      <th></th>\n",
       "      <th></th>\n",
       "      <th></th>\n",
       "      <th></th>\n",
       "      <th></th>\n",
       "      <th></th>\n",
       "      <th></th>\n",
       "      <th></th>\n",
       "    </tr>\n",
       "  </thead>\n",
       "  <tbody>\n",
       "    <tr>\n",
       "      <th>2015</th>\n",
       "      <td>7.2850</td>\n",
       "      <td>5.332931</td>\n",
       "      <td>5.626167</td>\n",
       "      <td>6.144682</td>\n",
       "      <td>5.406900</td>\n",
       "      <td>7.2730</td>\n",
       "      <td>5.317444</td>\n",
       "      <td>4.580857</td>\n",
       "      <td>4.202800</td>\n",
       "      <td>6.689619</td>\n",
       "    </tr>\n",
       "    <tr>\n",
       "      <th>2016</th>\n",
       "      <td>7.3235</td>\n",
       "      <td>5.370690</td>\n",
       "      <td>5.624167</td>\n",
       "      <td>6.101750</td>\n",
       "      <td>5.386053</td>\n",
       "      <td>7.2540</td>\n",
       "      <td>5.338889</td>\n",
       "      <td>4.563286</td>\n",
       "      <td>4.136421</td>\n",
       "      <td>6.685667</td>\n",
       "    </tr>\n",
       "    <tr>\n",
       "      <th>2017</th>\n",
       "      <td>7.2990</td>\n",
       "      <td>5.409931</td>\n",
       "      <td>5.646667</td>\n",
       "      <td>5.957818</td>\n",
       "      <td>5.369684</td>\n",
       "      <td>7.1545</td>\n",
       "      <td>5.444875</td>\n",
       "      <td>4.628429</td>\n",
       "      <td>4.111949</td>\n",
       "      <td>6.703714</td>\n",
       "    </tr>\n",
       "    <tr>\n",
       "      <th>2018</th>\n",
       "      <td>7.2980</td>\n",
       "      <td>5.463966</td>\n",
       "      <td>5.672000</td>\n",
       "      <td>5.950136</td>\n",
       "      <td>5.282737</td>\n",
       "      <td>7.1070</td>\n",
       "      <td>5.313444</td>\n",
       "      <td>4.603857</td>\n",
       "      <td>4.195026</td>\n",
       "      <td>6.781762</td>\n",
       "    </tr>\n",
       "    <tr>\n",
       "      <th>2019</th>\n",
       "      <td>7.2675</td>\n",
       "      <td>5.561517</td>\n",
       "      <td>5.688833</td>\n",
       "      <td>5.954429</td>\n",
       "      <td>5.237000</td>\n",
       "      <td>7.0850</td>\n",
       "      <td>5.273667</td>\n",
       "      <td>4.526857</td>\n",
       "      <td>4.294513</td>\n",
       "      <td>6.842190</td>\n",
       "    </tr>\n",
       "  </tbody>\n",
       "</table>\n",
       "</div>"
      ],
      "text/plain": [
       "Region  Australia and New Zealand  Central and Eastern Europe  Eastern Asia  \\\n",
       "Year                                                                          \n",
       "2015                       7.2850                    5.332931      5.626167   \n",
       "2016                       7.3235                    5.370690      5.624167   \n",
       "2017                       7.2990                    5.409931      5.646667   \n",
       "2018                       7.2980                    5.463966      5.672000   \n",
       "2019                       7.2675                    5.561517      5.688833   \n",
       "\n",
       "Region  Latin America and Caribbean  Middle East and Northern Africa  \\\n",
       "Year                                                                   \n",
       "2015                       6.144682                         5.406900   \n",
       "2016                       6.101750                         5.386053   \n",
       "2017                       5.957818                         5.369684   \n",
       "2018                       5.950136                         5.282737   \n",
       "2019                       5.954429                         5.237000   \n",
       "\n",
       "Region  North America  Southeastern Asia  Southern Asia  Sub-Saharan Africa  \\\n",
       "Year                                                                          \n",
       "2015           7.2730           5.317444       4.580857            4.202800   \n",
       "2016           7.2540           5.338889       4.563286            4.136421   \n",
       "2017           7.1545           5.444875       4.628429            4.111949   \n",
       "2018           7.1070           5.313444       4.603857            4.195026   \n",
       "2019           7.0850           5.273667       4.526857            4.294513   \n",
       "\n",
       "Region  Western Europe  \n",
       "Year                    \n",
       "2015          6.689619  \n",
       "2016          6.685667  \n",
       "2017          6.703714  \n",
       "2018          6.781762  \n",
       "2019          6.842190  "
      ]
     },
     "execution_count": 50,
     "metadata": {},
     "output_type": "execute_result"
    }
   ],
   "source": [
    "# Transform the dataframe:\n",
    "\n",
    "years = [\"2015\",\"2016\",\"2017\",\"2018\",\"2019\"]\n",
    "df_hs_region_years.transpose()"
   ]
  },
  {
   "cell_type": "code",
   "execution_count": 51,
   "id": "f5956070",
   "metadata": {
    "execution": {
     "iopub.execute_input": "2024-01-10T16:47:23.810563Z",
     "iopub.status.busy": "2024-01-10T16:47:23.809625Z",
     "iopub.status.idle": "2024-01-10T16:47:24.418068Z",
     "shell.execute_reply": "2024-01-10T16:47:24.416920Z"
    },
    "papermill": {
     "duration": 0.658735,
     "end_time": "2024-01-10T16:47:24.421008",
     "exception": false,
     "start_time": "2024-01-10T16:47:23.762273",
     "status": "completed"
    },
    "tags": []
   },
   "outputs": [
    {
     "data": {
      "text/plain": [
       "Text(0, 0.5, 'Happiness Score')"
      ]
     },
     "execution_count": 51,
     "metadata": {},
     "output_type": "execute_result"
    },
    {
     "data": {
      "image/png": "[encoded data removed]",
      "text/plain": [
       "<Figure size 1100x700 with 1 Axes>"
      ]
     },
     "metadata": {},
     "output_type": "display_data"
    }
   ],
   "source": [
    "# Let's visualize the evalution of the Happiness Score over the Years (for each Region).\n",
    "\n",
    "# Set our graph size:                \n",
    "plt.figure(figsize=(11,7))\n",
    "\n",
    "for region in df_hs_region_years.index :\n",
    "    df_hs_region_years.loc[region].plot()\n",
    "    #ax = sns.lineplot(data = df_hs_region_years.loc[region])\n",
    "\n",
    "# Add labels vertical inclination to improve improve legibility\n",
    "plt.legend(df_hs_region_years.index,loc=\"upper left\")\n",
    "plt.title(\"Happiness Score evolution per region\")\n",
    "plt.ylabel(\"Happiness Score\")"
   ]
  },
  {
   "cell_type": "markdown",
   "id": "e4d7f36c",
   "metadata": {
    "papermill": {
     "duration": 0.045646,
     "end_time": "2024-01-10T16:47:24.512037",
     "exception": false,
     "start_time": "2024-01-10T16:47:24.466391",
     "status": "completed"
    },
    "tags": []
   },
   "source": [
    "## Correlation"
   ]
  },
  {
   "cell_type": "code",
   "execution_count": 52,
   "id": "321a1e5c",
   "metadata": {
    "execution": {
     "iopub.execute_input": "2024-01-10T16:47:24.605176Z",
     "iopub.status.busy": "2024-01-10T16:47:24.604734Z",
     "iopub.status.idle": "2024-01-10T16:47:24.609708Z",
     "shell.execute_reply": "2024-01-10T16:47:24.608772Z"
    },
    "papermill": {
     "duration": 0.054369,
     "end_time": "2024-01-10T16:47:24.611932",
     "exception": false,
     "start_time": "2024-01-10T16:47:24.557563",
     "status": "completed"
    },
    "tags": []
   },
   "outputs": [],
   "source": [
    "# Define our indicators variable:\n",
    "\n",
    "indicators = ['Happiness_Score', 'GDP_per_capita',\n",
    "       'Family', 'Health', 'Freedom', 'Corruption_perception', 'Generosity']"
   ]
  },
  {
   "cell_type": "code",
   "execution_count": 53,
   "id": "b7ec72fb",
   "metadata": {
    "execution": {
     "iopub.execute_input": "2024-01-10T16:47:24.705558Z",
     "iopub.status.busy": "2024-01-10T16:47:24.704934Z",
     "iopub.status.idle": "2024-01-10T16:47:24.711739Z",
     "shell.execute_reply": "2024-01-10T16:47:24.710914Z"
    },
    "papermill": {
     "duration": 0.056619,
     "end_time": "2024-01-10T16:47:24.714394",
     "exception": false,
     "start_time": "2024-01-10T16:47:24.657775",
     "status": "completed"
    },
    "tags": []
   },
   "outputs": [],
   "source": [
    "data = df[indicators].dropna()"
   ]
  },
  {
   "cell_type": "code",
   "execution_count": 54,
   "id": "2c286fd9",
   "metadata": {
    "execution": {
     "iopub.execute_input": "2024-01-10T16:47:24.814405Z",
     "iopub.status.busy": "2024-01-10T16:47:24.813968Z",
     "iopub.status.idle": "2024-01-10T16:47:24.830701Z",
     "shell.execute_reply": "2024-01-10T16:47:24.829653Z"
    },
    "papermill": {
     "duration": 0.072385,
     "end_time": "2024-01-10T16:47:24.833069",
     "exception": false,
     "start_time": "2024-01-10T16:47:24.760684",
     "status": "completed"
    },
    "tags": []
   },
   "outputs": [
    {
     "data": {
      "text/html": [
       "<div>\n",
       "<style scoped>\n",
       "    .dataframe tbody tr th:only-of-type {\n",
       "        vertical-align: middle;\n",
       "    }\n",
       "\n",
       "    .dataframe tbody tr th {\n",
       "        vertical-align: top;\n",
       "    }\n",
       "\n",
       "    .dataframe thead th {\n",
       "        text-align: right;\n",
       "    }\n",
       "</style>\n",
       "<table border=\"1\" class=\"dataframe\">\n",
       "  <thead>\n",
       "    <tr style=\"text-align: right;\">\n",
       "      <th></th>\n",
       "      <th>Happiness_Score</th>\n",
       "      <th>GDP_per_capita</th>\n",
       "      <th>Family</th>\n",
       "      <th>Health</th>\n",
       "      <th>Freedom</th>\n",
       "      <th>Corruption_perception</th>\n",
       "      <th>Generosity</th>\n",
       "    </tr>\n",
       "  </thead>\n",
       "  <tbody>\n",
       "    <tr>\n",
       "      <th>Happiness_Score</th>\n",
       "      <td>1.000000</td>\n",
       "      <td>0.789683</td>\n",
       "      <td>0.651149</td>\n",
       "      <td>0.742656</td>\n",
       "      <td>0.553398</td>\n",
       "      <td>0.398992</td>\n",
       "      <td>0.138613</td>\n",
       "    </tr>\n",
       "    <tr>\n",
       "      <th>GDP_per_capita</th>\n",
       "      <td>0.789683</td>\n",
       "      <td>1.000000</td>\n",
       "      <td>0.592996</td>\n",
       "      <td>0.787738</td>\n",
       "      <td>0.345752</td>\n",
       "      <td>0.307534</td>\n",
       "      <td>-0.012875</td>\n",
       "    </tr>\n",
       "    <tr>\n",
       "      <th>Family</th>\n",
       "      <td>0.651149</td>\n",
       "      <td>0.592996</td>\n",
       "      <td>1.000000</td>\n",
       "      <td>0.573117</td>\n",
       "      <td>0.419750</td>\n",
       "      <td>0.126642</td>\n",
       "      <td>-0.037381</td>\n",
       "    </tr>\n",
       "    <tr>\n",
       "      <th>Health</th>\n",
       "      <td>0.742656</td>\n",
       "      <td>0.787738</td>\n",
       "      <td>0.573117</td>\n",
       "      <td>1.000000</td>\n",
       "      <td>0.341102</td>\n",
       "      <td>0.251000</td>\n",
       "      <td>0.011115</td>\n",
       "    </tr>\n",
       "    <tr>\n",
       "      <th>Freedom</th>\n",
       "      <td>0.553398</td>\n",
       "      <td>0.345752</td>\n",
       "      <td>0.419750</td>\n",
       "      <td>0.341102</td>\n",
       "      <td>1.000000</td>\n",
       "      <td>0.459746</td>\n",
       "      <td>0.290703</td>\n",
       "    </tr>\n",
       "    <tr>\n",
       "      <th>Corruption_perception</th>\n",
       "      <td>0.398992</td>\n",
       "      <td>0.307534</td>\n",
       "      <td>0.126642</td>\n",
       "      <td>0.251000</td>\n",
       "      <td>0.459746</td>\n",
       "      <td>1.000000</td>\n",
       "      <td>0.318778</td>\n",
       "    </tr>\n",
       "    <tr>\n",
       "      <th>Generosity</th>\n",
       "      <td>0.138613</td>\n",
       "      <td>-0.012875</td>\n",
       "      <td>-0.037381</td>\n",
       "      <td>0.011115</td>\n",
       "      <td>0.290703</td>\n",
       "      <td>0.318778</td>\n",
       "      <td>1.000000</td>\n",
       "    </tr>\n",
       "  </tbody>\n",
       "</table>\n",
       "</div>"
      ],
      "text/plain": [
       "                       Happiness_Score  GDP_per_capita    Family    Health  \\\n",
       "Happiness_Score               1.000000        0.789683  0.651149  0.742656   \n",
       "GDP_per_capita                0.789683        1.000000  0.592996  0.787738   \n",
       "Family                        0.651149        0.592996  1.000000  0.573117   \n",
       "Health                        0.742656        0.787738  0.573117  1.000000   \n",
       "Freedom                       0.553398        0.345752  0.419750  0.341102   \n",
       "Corruption_perception         0.398992        0.307534  0.126642  0.251000   \n",
       "Generosity                    0.138613       -0.012875 -0.037381  0.011115   \n",
       "\n",
       "                        Freedom  Corruption_perception  Generosity  \n",
       "Happiness_Score        0.553398               0.398992    0.138613  \n",
       "GDP_per_capita         0.345752               0.307534   -0.012875  \n",
       "Family                 0.419750               0.126642   -0.037381  \n",
       "Health                 0.341102               0.251000    0.011115  \n",
       "Freedom                1.000000               0.459746    0.290703  \n",
       "Corruption_perception  0.459746               1.000000    0.318778  \n",
       "Generosity             0.290703               0.318778    1.000000  "
      ]
     },
     "execution_count": 54,
     "metadata": {},
     "output_type": "execute_result"
    }
   ],
   "source": [
    "# Correlation matrix creation:\n",
    "\n",
    "data.corr()"
   ]
  },
  {
   "cell_type": "code",
   "execution_count": 55,
   "id": "88a2a4a0",
   "metadata": {
    "execution": {
     "iopub.execute_input": "2024-01-10T16:47:24.928656Z",
     "iopub.status.busy": "2024-01-10T16:47:24.928260Z",
     "iopub.status.idle": "2024-01-10T16:47:25.556349Z",
     "shell.execute_reply": "2024-01-10T16:47:25.554995Z"
    },
    "papermill": {
     "duration": 0.678996,
     "end_time": "2024-01-10T16:47:25.559106",
     "exception": false,
     "start_time": "2024-01-10T16:47:24.880110",
     "status": "completed"
    },
    "tags": []
   },
   "outputs": [
    {
     "data": {
      "text/plain": [
       "<Axes: >"
      ]
     },
     "execution_count": 55,
     "metadata": {},
     "output_type": "execute_result"
    },
    {
     "data": {
      "image/png": "[encoded data removed]",
      "text/plain": [
       "<Figure size 640x480 with 2 Axes>"
      ]
     },
     "metadata": {},
     "output_type": "display_data"
    }
   ],
   "source": [
    "# Correlation matrix visualization:\n",
    "\n",
    "\n",
    "sns.heatmap(data.corr(), cmap=\"RdBu\", vmin= -1, vmax=1)"
   ]
  },
  {
   "cell_type": "markdown",
   "id": "7468bb69",
   "metadata": {
    "papermill": {
     "duration": 0.04616,
     "end_time": "2024-01-10T16:47:25.652660",
     "exception": false,
     "start_time": "2024-01-10T16:47:25.606500",
     "status": "completed"
    },
    "tags": []
   },
   "source": [
    "Let's analyze the Pearson coefficient and the P-value of thedifferent relations between Happiness Score and indicators in our data."
   ]
  },
  {
   "cell_type": "code",
   "execution_count": 56,
   "id": "d9930969",
   "metadata": {
    "execution": {
     "iopub.execute_input": "2024-01-10T16:47:25.748544Z",
     "iopub.status.busy": "2024-01-10T16:47:25.747846Z",
     "iopub.status.idle": "2024-01-10T16:47:25.753241Z",
     "shell.execute_reply": "2024-01-10T16:47:25.752392Z"
    },
    "papermill": {
     "duration": 0.056237,
     "end_time": "2024-01-10T16:47:25.755592",
     "exception": false,
     "start_time": "2024-01-10T16:47:25.699355",
     "status": "completed"
    },
    "tags": []
   },
   "outputs": [],
   "source": [
    "# Import \"stats\" module:\n",
    "\n",
    "from scipy import stats"
   ]
  },
  {
   "cell_type": "code",
   "execution_count": 57,
   "id": "8abbd3f6",
   "metadata": {
    "execution": {
     "iopub.execute_input": "2024-01-10T16:47:25.852004Z",
     "iopub.status.busy": "2024-01-10T16:47:25.851185Z",
     "iopub.status.idle": "2024-01-10T16:47:25.858863Z",
     "shell.execute_reply": "2024-01-10T16:47:25.857741Z"
    },
    "papermill": {
     "duration": 0.059078,
     "end_time": "2024-01-10T16:47:25.861214",
     "exception": false,
     "start_time": "2024-01-10T16:47:25.802136",
     "status": "completed"
    },
    "tags": []
   },
   "outputs": [
    {
     "name": "stdout",
     "output_type": "stream",
     "text": [
      "The Pearson Correlation Coefficient is 0.7892432945932294  with a P-value of P = 3.855417281471231e-167\n"
     ]
    }
   ],
   "source": [
    "# GDP_per_capita vs. Happiness_Score:\n",
    "\n",
    "pearson_coef, p_value = stats.pearsonr(df['GDP_per_capita'], df['Happiness_Score'])\n",
    "print(\"The Pearson Correlation Coefficient is\", pearson_coef, \" with a P-value of P =\", p_value)  \n"
   ]
  },
  {
   "cell_type": "markdown",
   "id": "84c9e039",
   "metadata": {
    "papermill": {
     "duration": 0.046376,
     "end_time": "2024-01-10T16:47:25.954186",
     "exception": false,
     "start_time": "2024-01-10T16:47:25.907810",
     "status": "completed"
    },
    "tags": []
   },
   "source": [
    "Since the P-value is < 0.001, the correlation between 'GDP_per_capita' and 'Happiness_Score' is statistically significant, and the linear relationship is quite strong (~0.7892)."
   ]
  },
  {
   "cell_type": "code",
   "execution_count": 58,
   "id": "5b8c7531",
   "metadata": {
    "execution": {
     "iopub.execute_input": "2024-01-10T16:47:26.052236Z",
     "iopub.status.busy": "2024-01-10T16:47:26.051801Z",
     "iopub.status.idle": "2024-01-10T16:47:26.059006Z",
     "shell.execute_reply": "2024-01-10T16:47:26.057856Z"
    },
    "papermill": {
     "duration": 0.058632,
     "end_time": "2024-01-10T16:47:26.061562",
     "exception": false,
     "start_time": "2024-01-10T16:47:26.002930",
     "status": "completed"
    },
    "tags": []
   },
   "outputs": [
    {
     "name": "stdout",
     "output_type": "stream",
     "text": [
      "The Pearson Correlation Coefficient is 0.6487023186707541  with a P-value of P = 1.822439919068946e-94\n"
     ]
    }
   ],
   "source": [
    "# Family vs. Happiness_Score:\n",
    "\n",
    "pearson_coef, p_value = stats.pearsonr(df['Family'], df['Happiness_Score'])\n",
    "print(\"The Pearson Correlation Coefficient is\", pearson_coef, \" with a P-value of P =\", p_value)"
   ]
  },
  {
   "cell_type": "markdown",
   "id": "35543dfb",
   "metadata": {
    "papermill": {
     "duration": 0.047747,
     "end_time": "2024-01-10T16:47:26.157017",
     "exception": false,
     "start_time": "2024-01-10T16:47:26.109270",
     "status": "completed"
    },
    "tags": []
   },
   "source": [
    "Since the P-value is < 0.001, the correlation between 'Family' and 'Happiness_Score' is statistically significant, although the linear relationship isn't extremely strong (~0.6487)."
   ]
  },
  {
   "cell_type": "code",
   "execution_count": 59,
   "id": "2f762872",
   "metadata": {
    "execution": {
     "iopub.execute_input": "2024-01-10T16:47:26.253800Z",
     "iopub.status.busy": "2024-01-10T16:47:26.252866Z",
     "iopub.status.idle": "2024-01-10T16:47:26.260830Z",
     "shell.execute_reply": "2024-01-10T16:47:26.259608Z"
    },
    "papermill": {
     "duration": 0.05971,
     "end_time": "2024-01-10T16:47:26.263327",
     "exception": false,
     "start_time": "2024-01-10T16:47:26.203617",
     "status": "completed"
    },
    "tags": []
   },
   "outputs": [
    {
     "name": "stdout",
     "output_type": "stream",
     "text": [
      "The Pearson Correlation Coefficient is 0.7422681445102794  with a P-value of P = 1.4102145099480251e-137\n"
     ]
    }
   ],
   "source": [
    "# Health vs. Happiness_Score:\n",
    "\n",
    "pearson_coef, p_value = stats.pearsonr(df['Health'], df['Happiness_Score'])\n",
    "print(\"The Pearson Correlation Coefficient is\", pearson_coef, \" with a P-value of P =\", p_value)"
   ]
  },
  {
   "cell_type": "markdown",
   "id": "42445131",
   "metadata": {
    "papermill": {
     "duration": 0.046974,
     "end_time": "2024-01-10T16:47:26.359588",
     "exception": false,
     "start_time": "2024-01-10T16:47:26.312614",
     "status": "completed"
    },
    "tags": []
   },
   "source": [
    "Since the P-value is < 0.001, the correlation between 'Health' and 'Happiness_Score' is statistically significant, and the linear relationship is quite strong (~0.7422)."
   ]
  },
  {
   "cell_type": "code",
   "execution_count": 60,
   "id": "0fb7e072",
   "metadata": {
    "execution": {
     "iopub.execute_input": "2024-01-10T16:47:26.475259Z",
     "iopub.status.busy": "2024-01-10T16:47:26.474474Z",
     "iopub.status.idle": "2024-01-10T16:47:26.482012Z",
     "shell.execute_reply": "2024-01-10T16:47:26.480662Z"
    },
    "papermill": {
     "duration": 0.068534,
     "end_time": "2024-01-10T16:47:26.484534",
     "exception": false,
     "start_time": "2024-01-10T16:47:26.416000",
     "status": "completed"
    },
    "tags": []
   },
   "outputs": [
    {
     "name": "stdout",
     "output_type": "stream",
     "text": [
      "The Pearson Correlation Coefficient is 0.5512911562768055  with a P-value of P = 2.6832209822085386e-63\n"
     ]
    }
   ],
   "source": [
    "# Freedom vs. Happiness_Score:\n",
    "\n",
    "pearson_coef, p_value = stats.pearsonr(df['Freedom'], df['Happiness_Score'])\n",
    "print(\"The Pearson Correlation Coefficient is\", pearson_coef, \" with a P-value of P =\", p_value)"
   ]
  },
  {
   "cell_type": "markdown",
   "id": "01737ec2",
   "metadata": {
    "papermill": {
     "duration": 0.046791,
     "end_time": "2024-01-10T16:47:26.578426",
     "exception": false,
     "start_time": "2024-01-10T16:47:26.531635",
     "status": "completed"
    },
    "tags": []
   },
   "source": [
    "Since the P-value is < 0.001, the correlation between 'Health' and 'Happiness_Score' is statistically significant, but the linear relationship is only moderate (~0.5512)."
   ]
  },
  {
   "cell_type": "code",
   "execution_count": 61,
   "id": "5b59101d",
   "metadata": {
    "execution": {
     "iopub.execute_input": "2024-01-10T16:47:26.675154Z",
     "iopub.status.busy": "2024-01-10T16:47:26.674720Z",
     "iopub.status.idle": "2024-01-10T16:47:26.681638Z",
     "shell.execute_reply": "2024-01-10T16:47:26.680307Z"
    },
    "papermill": {
     "duration": 0.058219,
     "end_time": "2024-01-10T16:47:26.684185",
     "exception": false,
     "start_time": "2024-01-10T16:47:26.625966",
     "status": "completed"
    },
    "tags": []
   },
   "outputs": [
    {
     "name": "stdout",
     "output_type": "stream",
     "text": [
      "The Pearson Correlation Coefficient is 0.138049168233433  with a P-value of P = 0.00010868357658918662\n"
     ]
    }
   ],
   "source": [
    "# Generosity vs. Happiness_Score:\n",
    "\n",
    "pearson_coef, p_value = stats.pearsonr(df['Generosity'], df['Happiness_Score'])\n",
    "print(\"The Pearson Correlation Coefficient is\", pearson_coef, \" with a P-value of P =\", p_value)"
   ]
  },
  {
   "cell_type": "markdown",
   "id": "f3dfcbfe",
   "metadata": {
    "papermill": {
     "duration": 0.046573,
     "end_time": "2024-01-10T16:47:26.777639",
     "exception": false,
     "start_time": "2024-01-10T16:47:26.731066",
     "status": "completed"
    },
    "tags": []
   },
   "source": [
    "Since the P-value is < 0.001, the correlation between 'Health' and 'Happiness_Score' is statistically significant, but the linear relationship is almost absent (~0.5512)."
   ]
  },
  {
   "cell_type": "markdown",
   "id": "bf0edb6e",
   "metadata": {
    "papermill": {
     "duration": 0.047155,
     "end_time": "2024-01-10T16:47:26.872766",
     "exception": false,
     "start_time": "2024-01-10T16:47:26.825611",
     "status": "completed"
    },
    "tags": []
   },
   "source": [
    "#### Conclusion:\n",
    "We've already analyzed the correlation between Happiness Score and indicators. As we can see from the Pearson coefficients, relations between indicators and Happiness Score are positive linear relations. And since the P-values of all relations are < 0.0001 we can say that they are statistically significant. \n",
    "\n",
    "Now we have a better idea of what our data looks like and which variables are meaningfully affect the target variable Happiness Score."
   ]
  }
 ],
 "metadata": {
  "kaggle": {
   "accelerator": "none",
   "dataSources": [
    {
     "datasetId": 894,
     "sourceId": 813759,
     "sourceType": "datasetVersion"
    }
   ],
   "dockerImageVersionId": 30527,
   "isGpuEnabled": false,
   "isInternetEnabled": false,
   "language": "python",
   "sourceType": "notebook"
  },
  "kernelspec": {
   "display_name": "Python 3",
   "language": "python",
   "name": "python3"
  },
  "language_info": {
   "codemirror_mode": {
    "name": "ipython",
    "version": 3
   },
   "file_extension": ".py",
   "mimetype": "text/x-python",
   "name": "python",
   "nbconvert_exporter": "python",
   "pygments_lexer": "ipython3",
   "version": "3.10.12"
  },
  "papermill": {
   "default_parameters": {},
   "duration": 28.540334,
   "end_time": "2024-01-10T16:47:28.043786",
   "environment_variables": {},
   "exception": null,
   "input_path": "__notebook__.ipynb",
   "output_path": "__notebook__.ipynb",
   "parameters": {},
   "start_time": "2024-01-10T16:46:59.503452",
   "version": "2.4.0"
  }
 },
 "nbformat": 4,
 "nbformat_minor": 5
}
